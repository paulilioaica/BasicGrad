{
 "cells": [
  {
   "cell_type": "code",
   "execution_count": 1,
   "metadata": {},
   "outputs": [],
   "source": [
    "from variable.variable import Variable\n",
    "from activation_functions.relu import ReLUActivation\n",
    "relu_fn = ReLUActivation()"
   ]
  },
  {
   "cell_type": "code",
   "execution_count": 2,
   "metadata": {},
   "outputs": [],
   "source": [
    "x = Variable(3)\n",
    "y = Variable(4)"
   ]
  },
  {
   "cell_type": "code",
   "execution_count": 3,
   "metadata": {},
   "outputs": [],
   "source": [
    "z = x + y "
   ]
  },
  {
   "cell_type": "code",
   "execution_count": 4,
   "metadata": {},
   "outputs": [],
   "source": [
    "from nn.linear_layer import LinearLayer\n",
    "from variable.variable import Variable\n",
    "from optimizer.sgd import SGDOptimizer\n",
    "\n",
    "class SimpleModel:\n",
    "    def __init__(self, input_size, hidden_size, output_size):\n",
    "        self.layer1 = LinearLayer(input_size, hidden_size)\n",
    "        self.layer2 = LinearLayer(hidden_size, output_size)\n",
    "        self.relu = ReLUActivation()\n",
    "\n",
    "    def __call__(self, x):\n",
    "        x = self.layer1(x)\n",
    "        x = self.relu(x)\n",
    "        x = self.layer2(x)\n",
    "        return x\n",
    "\n",
    "    def parameters(self):\n",
    "        return self.layer1.parameters() + self.layer2.parameters()"
   ]
  },
  {
   "cell_type": "code",
   "execution_count": 5,
   "metadata": {},
   "outputs": [],
   "source": [
    "input_size = 3\n",
    "hidden_size = 4\n",
    "output_size = 1\n",
    "\n",
    "model = SimpleModel(input_size, hidden_size, output_size)\n",
    "optimizer = SGDOptimizer(model.parameters(), learning_rate=0.01)\n",
    "\n",
    "\n",
    "x = [[Variable(1), Variable(2), Variable(3)]]\n",
    "\n",
    "output = model(x)\n"
   ]
  },
  {
   "cell_type": "code",
   "execution_count": 6,
   "metadata": {},
   "outputs": [],
   "source": [
    "output[0][0].grad = 10"
   ]
  },
  {
   "cell_type": "code",
   "execution_count": 7,
   "metadata": {},
   "outputs": [
    {
     "data": {
      "text/plain": [
       "[[Variable(data=0.7062873974296746, grad=0), _op=None, _prev=set(), _name=weight_0_0,\n",
       "  Variable(data=0.20634341552299018, grad=0), _op=None, _prev=set(), _name=weight_1_0,\n",
       "  Variable(data=0.7281460899453482, grad=0), _op=None, _prev=set(), _name=weight_2_0],\n",
       " [Variable(data=0.43724008196859243, grad=0), _op=None, _prev=set(), _name=weight_0_1,\n",
       "  Variable(data=0.7331721718684626, grad=0), _op=None, _prev=set(), _name=weight_1_1,\n",
       "  Variable(data=0.10937273568924444, grad=0), _op=None, _prev=set(), _name=weight_2_1],\n",
       " [Variable(data=0.5802114515851918, grad=0), _op=None, _prev=set(), _name=weight_0_2,\n",
       "  Variable(data=0.43314358626383864, grad=0), _op=None, _prev=set(), _name=weight_1_2,\n",
       "  Variable(data=0.49592629761143137, grad=0), _op=None, _prev=set(), _name=weight_2_2],\n",
       " [Variable(data=0.4097319345556446, grad=0), _op=None, _prev=set(), _name=weight_0_3,\n",
       "  Variable(data=0.8651874917028937, grad=0), _op=None, _prev=set(), _name=weight_1_3,\n",
       "  Variable(data=0.00847175766481556, grad=0), _op=None, _prev=set(), _name=weight_2_3]]"
      ]
     },
     "execution_count": 7,
     "metadata": {},
     "output_type": "execute_result"
    }
   ],
   "source": [
    "model.layer1.weight"
   ]
  },
  {
   "cell_type": "code",
   "execution_count": 8,
   "metadata": {},
   "outputs": [
    {
     "name": "stdout",
     "output_type": "stream",
     "text": [
      "Variable(data=2.4620166654368463, grad=1.5812971218813787), _op=<activation_functions.relu.ReLUActivation object at 0x00000141CB2F8050>, _prev={Variable(data=2.4620166654368463, grad=0), _op=<ops.basic_ops.AddOperation object at 0x00000141CB2F8E60>, _prev={Variable(data=2.231702632773251, grad=0), _op=<ops.basic_ops.AddOperation object at 0x00000141CB2F8D70>, _prev={Variable(data=0.3281182070677333, grad=0), _op=<ops.basic_ops.MulOperation object at 0x00000141CB2F8C80>, _prev={Variable(data=3, grad=0), _op=None, _prev=set(), _name=None, Variable(data=0.10937273568924444, grad=0), _op=None, _prev=set(), _name=weight_2_1}, _name=None, Variable(data=1.9035844257055177, grad=0), _op=<ops.basic_ops.AddOperation object at 0x00000141CB2F8B90>, _prev={Variable(data=1.4663443437369252, grad=0), _op=<ops.basic_ops.MulOperation object at 0x00000141CB2F8AA0>, _prev={Variable(data=2, grad=0), _op=None, _prev=set(), _name=None, Variable(data=0.7331721718684626, grad=0), _op=None, _prev=set(), _name=weight_1_1}, _name=None, Variable(data=0.43724008196859243, grad=0), _op=<ops.basic_ops.AddOperation object at 0x00000141CB2F89B0>, _prev={Variable(data=0, grad=0), _op=None, _prev=set(), _name=sum_value_0_1, Variable(data=0.43724008196859243, grad=0), _op=<ops.basic_ops.MulOperation object at 0x00000141CB2F88C0>, _prev={Variable(data=0.43724008196859243, grad=0), _op=None, _prev=set(), _name=weight_0_1, Variable(data=1, grad=0), _op=None, _prev=set(), _name=None}, _name=None}, _name=None}, _name=None}, _name=None, Variable(data=0.2303140326635953, grad=0), _op=None, _prev=set(), _name=bias_1}, _name=None}, _name=None\n",
      "Variable(data=3.7797806664478575, grad=5.546320427261335), _op=<activation_functions.relu.ReLUActivation object at 0x00000141CB2F8050>, _prev={Variable(data=3.7797806664478575, grad=0), _op=<ops.basic_ops.AddOperation object at 0x00000141CB2F87D0>, _prev={Variable(data=3.3034124983116997, grad=0), _op=<ops.basic_ops.AddOperation object at 0x00000141CB2F86E0>, _prev={Variable(data=2.1844382698360447, grad=0), _op=<ops.basic_ops.MulOperation object at 0x00000141CB2F85F0>, _prev={Variable(data=3, grad=0.172950792157695), _op=None, _prev=set(), _name=None, Variable(data=0.7281460899453482, grad=0), _op=None, _prev=set(), _name=weight_2_0}, _name=None, Variable(data=1.118974228475655, grad=0), _op=<ops.basic_ops.AddOperation object at 0x00000141CB2F8500>, _prev={Variable(data=0.41268683104598036, grad=0), _op=<ops.basic_ops.MulOperation object at 0x00000141CB2F8410>, _prev={Variable(data=0.20634341552299018, grad=0), _op=None, _prev=set(), _name=weight_1_0, Variable(data=2, grad=1.1593630452191195), _op=None, _prev=set(), _name=None}, _name=None, Variable(data=0.7062873974296746, grad=0), _op=<ops.basic_ops.AddOperation object at 0x00000141CB2F8320>, _prev={Variable(data=0, grad=0), _op=None, _prev=set(), _name=sum_value_0_0, Variable(data=0.7062873974296746, grad=0), _op=<ops.basic_ops.MulOperation object at 0x00000141CB2F8230>, _prev={Variable(data=0.7062873974296746, grad=0), _op=None, _prev=set(), _name=weight_0_0, Variable(data=1, grad=0.6914064831881134), _op=None, _prev=set(), _name=None}, _name=None}, _name=None}, _name=None}, _name=None, Variable(data=0.4763681681361578, grad=0), _op=None, _prev=set(), _name=bias_0}, _name=None}, _name=None\n",
      "Variable(data=3.006051086474804, grad=1.8596711430384438), _op=<activation_functions.relu.ReLUActivation object at 0x00000141CB2F8050>, _prev={Variable(data=3.006051086474804, grad=0), _op=<ops.basic_ops.AddOperation object at 0x00000141CB2F94F0>, _prev={Variable(data=2.934277516947163, grad=0), _op=<ops.basic_ops.AddOperation object at 0x00000141CB2F9400>, _prev={Variable(data=1.487778892834294, grad=0), _op=<ops.basic_ops.MulOperation object at 0x00000141CB2F9310>, _prev={Variable(data=3, grad=4.211482324852049), _op=None, _prev=set(), _name=None, Variable(data=0.49592629761143137, grad=0), _op=None, _prev=set(), _name=weight_2_2}, _name=None, Variable(data=1.446498624112869, grad=0), _op=<ops.basic_ops.AddOperation object at 0x00000141CB2F9220>, _prev={Variable(data=0.8662871725276773, grad=0), _op=<ops.basic_ops.MulOperation object at 0x00000141CB2F9130>, _prev={Variable(data=0.43314358626383864, grad=0), _op=None, _prev=set(), _name=weight_1_2, Variable(data=2, grad=2.303809745765154), _op=None, _prev=set(), _name=None}, _name=None, Variable(data=0.5802114515851918, grad=0), _op=<ops.basic_ops.AddOperation object at 0x00000141CB2F9040>, _prev={Variable(data=0.5802114515851918, grad=0), _op=<ops.basic_ops.MulOperation object at 0x00000141CB2F8F50>, _prev={Variable(data=0.5802114515851918, grad=0), _op=None, _prev=set(), _name=weight_0_2, Variable(data=1, grad=4.608702703069563), _op=None, _prev=set(), _name=None}, _name=None, Variable(data=0, grad=0), _op=None, _prev=set(), _name=sum_value_0_2}, _name=None}, _name=None}, _name=None, Variable(data=0.07177356952764102, grad=0), _op=None, _prev=set(), _name=bias_2}, _name=None}, _name=None\n",
      "Variable(data=2.4151034521646193, grad=9.375586574251747), _op=<activation_functions.relu.ReLUActivation object at 0x00000141CB2F8050>, _prev={Variable(data=2.4151034521646193, grad=0), _op=<ops.basic_ops.AddOperation object at 0x00000141CB2F9B80>, _prev={Variable(data=0.24958126120874047, grad=0), _op=None, _prev=set(), _name=bias_3, Variable(data=2.165522190955879, grad=0), _op=<ops.basic_ops.AddOperation object at 0x00000141CB2F9A90>, _prev={Variable(data=0.02541527299444668, grad=0), _op=<ops.basic_ops.MulOperation object at 0x00000141CB2F99A0>, _prev={Variable(data=3, grad=5.133742149593924), _op=None, _prev=set(), _name=None, Variable(data=0.00847175766481556, grad=0), _op=None, _prev=set(), _name=weight_2_3}, _name=None, Variable(data=2.140106917961432, grad=0), _op=<ops.basic_ops.AddOperation object at 0x00000141CB2F98B0>, _prev={Variable(data=0.4097319345556446, grad=0), _op=<ops.basic_ops.AddOperation object at 0x00000141CB2F96D0>, _prev={Variable(data=0.4097319345556446, grad=0), _op=<ops.basic_ops.MulOperation object at 0x00000141CB2F95E0>, _prev={Variable(data=1, grad=5.687705196442991), _op=None, _prev=set(), _name=None, Variable(data=0.4097319345556446, grad=0), _op=None, _prev=set(), _name=weight_0_3}, _name=None, Variable(data=0, grad=0), _op=None, _prev=set(), _name=sum_value_0_3}, _name=None, Variable(data=1.7303749834057873, grad=0), _op=<ops.basic_ops.MulOperation object at 0x00000141CB2F97C0>, _prev={Variable(data=0.8651874917028937, grad=0), _op=None, _prev=set(), _name=weight_1_3, Variable(data=2, grad=3.1093143739321976), _op=None, _prev=set(), _name=None}, _name=None}, _name=None}, _name=None}, _name=None}, _name=None\n"
     ]
    }
   ],
   "source": [
    "output[0][0].backward()"
   ]
  },
  {
   "cell_type": "code",
   "execution_count": 9,
   "metadata": {},
   "outputs": [
    {
     "data": {
      "text/plain": [
       "[[Variable(data=0.7062873974296746, grad=5.546320427261335), _op=None, _prev=set(), _name=weight_0_0,\n",
       "  Variable(data=0.20634341552299018, grad=11.09264085452267), _op=None, _prev=set(), _name=weight_1_0,\n",
       "  Variable(data=0.7281460899453482, grad=16.638961281784006), _op=None, _prev=set(), _name=weight_2_0],\n",
       " [Variable(data=0.43724008196859243, grad=1.5812971218813787), _op=None, _prev=set(), _name=weight_0_1,\n",
       "  Variable(data=0.7331721718684626, grad=3.1625942437627574), _op=None, _prev=set(), _name=weight_1_1,\n",
       "  Variable(data=0.10937273568924444, grad=4.743891365644136), _op=None, _prev=set(), _name=weight_2_1],\n",
       " [Variable(data=0.5802114515851918, grad=1.8596711430384438), _op=None, _prev=set(), _name=weight_0_2,\n",
       "  Variable(data=0.43314358626383864, grad=3.7193422860768877), _op=None, _prev=set(), _name=weight_1_2,\n",
       "  Variable(data=0.49592629761143137, grad=5.5790134291153315), _op=None, _prev=set(), _name=weight_2_2],\n",
       " [Variable(data=0.4097319345556446, grad=9.375586574251747), _op=None, _prev=set(), _name=weight_0_3,\n",
       "  Variable(data=0.8651874917028937, grad=18.751173148503494), _op=None, _prev=set(), _name=weight_1_3,\n",
       "  Variable(data=0.00847175766481556, grad=28.12675972275524), _op=None, _prev=set(), _name=weight_2_3]]"
      ]
     },
     "execution_count": 9,
     "metadata": {},
     "output_type": "execute_result"
    }
   ],
   "source": [
    "model.layer1.weight"
   ]
  },
  {
   "cell_type": "code",
   "execution_count": 10,
   "metadata": {},
   "outputs": [],
   "source": [
    "optimizer.step()"
   ]
  },
  {
   "cell_type": "code",
   "execution_count": 11,
   "metadata": {},
   "outputs": [
    {
     "data": {
      "text/plain": [
       "[[Variable(data=0.6508241931570613, grad=5.546320427261335), _op=None, _prev=set(), _name=weight_0_0,\n",
       "  Variable(data=0.09541700697776347, grad=11.09264085452267), _op=None, _prev=set(), _name=weight_1_0,\n",
       "  Variable(data=0.5617564771275082, grad=16.638961281784006), _op=None, _prev=set(), _name=weight_2_0],\n",
       " [Variable(data=0.4214271107497786, grad=1.5812971218813787), _op=None, _prev=set(), _name=weight_0_1,\n",
       "  Variable(data=0.701546229430835, grad=3.1625942437627574), _op=None, _prev=set(), _name=weight_1_1,\n",
       "  Variable(data=0.06193382203280308, grad=4.743891365644136), _op=None, _prev=set(), _name=weight_2_1],\n",
       " [Variable(data=0.5616147401548074, grad=1.8596711430384438), _op=None, _prev=set(), _name=weight_0_2,\n",
       "  Variable(data=0.39595016340306977, grad=3.7193422860768877), _op=None, _prev=set(), _name=weight_1_2,\n",
       "  Variable(data=0.44013616332027805, grad=5.5790134291153315), _op=None, _prev=set(), _name=weight_2_2],\n",
       " [Variable(data=0.3159760688131271, grad=9.375586574251747), _op=None, _prev=set(), _name=weight_0_3,\n",
       "  Variable(data=0.6776757602178587, grad=18.751173148503494), _op=None, _prev=set(), _name=weight_1_3,\n",
       "  Variable(data=-0.27279583956273684, grad=28.12675972275524), _op=None, _prev=set(), _name=weight_2_3]]"
      ]
     },
     "execution_count": 11,
     "metadata": {},
     "output_type": "execute_result"
    }
   ],
   "source": [
    "model.layer1.weight"
   ]
  },
  {
   "cell_type": "code",
   "execution_count": 16,
   "metadata": {},
   "outputs": [],
   "source": [
    "optimizer.zero_grad()"
   ]
  },
  {
   "cell_type": "code",
   "execution_count": 17,
   "metadata": {},
   "outputs": [
    {
     "data": {
      "text/plain": [
       "[[Variable(data=0.6508241931570613, grad=0), _op=None, _prev=set(), _name=weight_0_0,\n",
       "  Variable(data=0.09541700697776347, grad=0), _op=None, _prev=set(), _name=weight_1_0,\n",
       "  Variable(data=0.5617564771275082, grad=0), _op=None, _prev=set(), _name=weight_2_0],\n",
       " [Variable(data=0.4214271107497786, grad=0), _op=None, _prev=set(), _name=weight_0_1,\n",
       "  Variable(data=0.701546229430835, grad=0), _op=None, _prev=set(), _name=weight_1_1,\n",
       "  Variable(data=0.06193382203280308, grad=0), _op=None, _prev=set(), _name=weight_2_1],\n",
       " [Variable(data=0.5616147401548074, grad=0), _op=None, _prev=set(), _name=weight_0_2,\n",
       "  Variable(data=0.39595016340306977, grad=0), _op=None, _prev=set(), _name=weight_1_2,\n",
       "  Variable(data=0.44013616332027805, grad=0), _op=None, _prev=set(), _name=weight_2_2],\n",
       " [Variable(data=0.3159760688131271, grad=0), _op=None, _prev=set(), _name=weight_0_3,\n",
       "  Variable(data=0.6776757602178587, grad=0), _op=None, _prev=set(), _name=weight_1_3,\n",
       "  Variable(data=-0.27279583956273684, grad=0), _op=None, _prev=set(), _name=weight_2_3]]"
      ]
     },
     "execution_count": 17,
     "metadata": {},
     "output_type": "execute_result"
    }
   ],
   "source": [
    "model.layer1.weight"
   ]
  }
 ],
 "metadata": {
  "kernelspec": {
   "display_name": "Python 3",
   "language": "python",
   "name": "python3"
  },
  "language_info": {
   "codemirror_mode": {
    "name": "ipython",
    "version": 3
   },
   "file_extension": ".py",
   "mimetype": "text/x-python",
   "name": "python",
   "nbconvert_exporter": "python",
   "pygments_lexer": "ipython3",
   "version": "3.12.5"
  }
 },
 "nbformat": 4,
 "nbformat_minor": 2
}
