{
 "cells": [
  {
   "cell_type": "code",
   "execution_count": 6,
   "metadata": {},
   "outputs": [],
   "source": [
    "from variable.variable import Variable\n",
    "from activation_functions.relu import ReLUActivation\n",
    "relu_fn = ReLUActivation()"
   ]
  },
  {
   "cell_type": "code",
   "execution_count": 7,
   "metadata": {},
   "outputs": [],
   "source": [
    "x = Variable(3)\n",
    "y = Variable(4)"
   ]
  },
  {
   "cell_type": "code",
   "execution_count": 8,
   "metadata": {},
   "outputs": [],
   "source": [
    "z = x + y "
   ]
  },
  {
   "cell_type": "code",
   "execution_count": 9,
   "metadata": {},
   "outputs": [],
   "source": [
    "x = Variable([[1, 2, 3], [4, 5, 6]])\n",
    "y = Variable([[2, 3, 4], [5, 6, 7]])\n",
    "\n",
    "z = x + y\n"
   ]
  },
  {
   "cell_type": "code",
   "execution_count": 10,
   "metadata": {},
   "outputs": [
    {
     "data": {
      "text/plain": [
       "[[Variable(data=1, grad=0, _op=None, name=None, requires_grad=True, _prev=set()),\n",
       "  Variable(data=2, grad=0, _op=None, name=None, requires_grad=True, _prev=set()),\n",
       "  Variable(data=3, grad=0, _op=None, name=None, requires_grad=True, _prev=set())],\n",
       " [Variable(data=4, grad=0, _op=None, name=None, requires_grad=True, _prev=set()),\n",
       "  Variable(data=5, grad=0, _op=None, name=None, requires_grad=True, _prev=set()),\n",
       "  Variable(data=6, grad=0, _op=None, name=None, requires_grad=True, _prev=set())]]"
      ]
     },
     "execution_count": 10,
     "metadata": {},
     "output_type": "execute_result"
    }
   ],
   "source": [
    "x"
   ]
  },
  {
   "cell_type": "code",
   "execution_count": 11,
   "metadata": {},
   "outputs": [],
   "source": [
    "from models.simple_model import SimpleModel\n",
    "input_size = 3\n",
    "hidden_size = 10\n",
    "output_size = 1\n",
    "\n",
    "\n",
    "model = SimpleModel(input_size, hidden_size, output_size)"
   ]
  },
  {
   "cell_type": "code",
   "execution_count": 12,
   "metadata": {},
   "outputs": [
    {
     "name": "stdout",
     "output_type": "stream",
     "text": [
      "Loss: 5122.3421757179885\n",
      "Loss: 736.8616434605553\n",
      "Loss: 648.7035787493862\n",
      "Loss: 750.7237863390204\n",
      "Loss: 935.4556506879132\n",
      "Loss: 32.76120059441529\n",
      "Loss: 364.1931782763367\n",
      "Loss: 250.59951986124142\n",
      "Loss: 58.87431405520708\n",
      "Loss: 31.423458554503842\n",
      "Loss: 189.08197385080322\n",
      "Loss: 83.65180978603058\n",
      "Loss: 7.547598818153907\n",
      "Loss: 74.01782387516357\n",
      "Loss: 27.45985351438525\n",
      "Loss: 26.769854179444184\n",
      "Loss: 21.719626458857903\n",
      "Loss: 18.400577134835125\n",
      "Loss: 2.5661490255181842\n",
      "Loss: 0.08905430933957302\n",
      "Loss: 22.170337986591765\n",
      "Loss: 4.800433344832109\n",
      "Loss: 13.775238673308776\n",
      "Loss: 6.476614081204252\n",
      "Loss: 8.330217824576634\n",
      "Loss: 0.4522473896247366\n",
      "Loss: 2.6745494738135034\n",
      "Loss: 2.0546917924816417\n",
      "Loss: 12.903011260337877\n",
      "Loss: 0.13939002030857647\n",
      "Loss: 0.08770409878797072\n",
      "Loss: 9.098655464958274\n",
      "Loss: 0.37503779874110016\n",
      "Loss: 0.98014983643776\n",
      "Loss: 1.993741915289118\n",
      "Loss: 3.1666004860517964\n",
      "Loss: 1.3805471057763663\n",
      "Loss: 2.384762080274436\n",
      "Loss: 0.0922016045622723\n",
      "Loss: 6.048504763008827\n",
      "Loss: 2.7507352373187612\n",
      "Loss: 3.486418372641658\n",
      "Loss: 0.2615438728906998\n",
      "Loss: 6.7117132526946905\n",
      "Loss: 1.325464788851746\n",
      "Loss: 5.4864114395798405\n",
      "Loss: 3.9863971298681\n",
      "Loss: 2.592956785740436\n",
      "Loss: 2.4062298540939184\n",
      "Loss: 2.0971345282445157\n",
      "Loss: 1.3239071466965993\n",
      "Loss: 1.646632277243946\n",
      "Loss: 0.00021922757695626933\n",
      "Loss: 0.06207353726033681\n",
      "Loss: 1.4065123167978808\n",
      "Loss: 1.7419548097109776\n",
      "Loss: 0.49749461415261154\n",
      "Loss: 2.005163993575162\n",
      "Loss: 0.05514775461766354\n",
      "Loss: 0.4347773471953738\n",
      "Loss: 1.3186596063826077\n",
      "Loss: 0.013722197706656239\n",
      "Loss: 1.5337185942565292\n",
      "Loss: 1.2457840697335227\n",
      "Loss: 6.295434279185984\n",
      "Loss: 3.6409205522692427\n",
      "Loss: 3.553793119794969\n",
      "Loss: 1.1385557458253046\n",
      "Loss: 0.11916080318677376\n",
      "Loss: 3.0628500737098654\n",
      "Loss: 2.724723235281018\n",
      "Loss: 0.38251515960433374\n",
      "Loss: 5.9242277498058895\n",
      "Loss: 3.5865787001362657\n",
      "Loss: 0.7555893820508085\n",
      "Loss: 0.5045703060953735\n",
      "Loss: 0.03309429099809424\n",
      "Loss: 3.1365747463261706\n",
      "Loss: 3.0650562598314837\n",
      "Loss: 1.234572855767696\n",
      "Loss: 0.10115121815944897\n",
      "Loss: 0.3824326537357666\n",
      "Loss: 0.7671526903833753\n",
      "Loss: 0.8095634886638331\n",
      "Loss: 1.127886556718314\n",
      "Loss: 0.1961267484685937\n",
      "Loss: 1.2936861574091623\n",
      "Loss: 0.38285579747157544\n",
      "Loss: 1.0085973669418284\n",
      "Loss: 0.0651833869064857\n",
      "Loss: 0.1684681663549972\n",
      "Loss: 0.20927355722639346\n",
      "Loss: 0.19984705981294462\n",
      "Loss: 1.5563606106879202\n",
      "Loss: 0.0038328907724698392\n",
      "Loss: 1.5846637055347244\n",
      "Loss: 1.5827312587777775\n",
      "Loss: 0.7838771940840474\n",
      "Loss: 0.999100387591423\n",
      "Loss: 0.9308792578464397\n"
     ]
    }
   ],
   "source": [
    "from optimizer.sgd import SGDOptimizer\n",
    "from loss_functions.mse import MSELoss\n",
    "from variable.variable import Variable\n",
    "import random\n",
    "\n",
    "loss_fn = MSELoss()\n",
    "\n",
    "optimizer = SGDOptimizer(model.parameters(), learning_rate=0.0001)\n",
    "\n",
    "losses = []\n",
    "#let's feed random input and make the model always output 0\n",
    "\n",
    "for i in range(100):\n",
    "    x = [[Variable(random.randint(0, 10)) for i in range(input_size)]]\n",
    "    y = [[Variable(0)]]\n",
    "    output = model(x)\n",
    "    loss = loss_fn(output, y)\n",
    "    optimizer.zero_grad()\n",
    "    loss.backward()\n",
    "    optimizer.step()\n",
    "    print(loss)\n",
    "    losses.append(loss.loss)\n"
   ]
  },
  {
   "cell_type": "code",
   "execution_count": 13,
   "metadata": {},
   "outputs": [
    {
     "data": {
      "image/png": "[encoded data removed]",
      "text/plain": [
       "<Figure size 640x480 with 1 Axes>"
      ]
     },
     "metadata": {},
     "output_type": "display_data"
    }
   ],
   "source": [
    "#plot the losses\n",
    "import matplotlib.pyplot as plt\n",
    "plt.plot(losses)\n",
    "plt.ylabel('loss')\n",
    "plt.xlabel('iteration')\n",
    "plt.show()\n",
    "\n"
   ]
  }
 ],
 "metadata": {
  "kernelspec": {
   "display_name": "Python 3",
   "language": "python",
   "name": "python3"
  },
  "language_info": {
   "codemirror_mode": {
    "name": "ipython",
    "version": 3
   },
   "file_extension": ".py",
   "mimetype": "text/x-python",
   "name": "python",
   "nbconvert_exporter": "python",
   "pygments_lexer": "ipython3",
   "version": "3.12.6"
  }
 },
 "nbformat": 4,
 "nbformat_minor": 2
}
