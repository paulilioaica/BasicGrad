{
 "cells": [
  {
   "cell_type": "code",
   "execution_count": 1,
   "metadata": {},
   "outputs": [],
   "source": [
    "from variable.variable import Variable\n",
    "from activation_functions.relu import ReLUActivation\n",
    "relu_fn = ReLUActivation()"
   ]
  },
  {
   "cell_type": "code",
   "execution_count": 2,
   "metadata": {},
   "outputs": [],
   "source": [
    "x = Variable(3)\n",
    "y = Variable(4)"
   ]
  },
  {
   "cell_type": "code",
   "execution_count": 3,
   "metadata": {},
   "outputs": [],
   "source": [
    "z = x + y "
   ]
  },
  {
   "cell_type": "code",
   "execution_count": 4,
   "metadata": {},
   "outputs": [],
   "source": [
    "from nn.linear_layer import LinearLayer\n",
    "from variable.variable import Variable\n",
    "from optimizer.sgd import SGDOptimizer\n",
    "\n",
    "class SimpleModel:\n",
    "    def __init__(self, input_size, hidden_size, output_size):\n",
    "        self.layer1 = LinearLayer(input_size, hidden_size)\n",
    "        self.layer2 = LinearLayer(hidden_size, output_size)\n",
    "        self.relu = ReLUActivation()\n",
    "\n",
    "    def __call__(self, x):\n",
    "        x = self.layer1(x)\n",
    "        x = self.relu(x)\n",
    "        x = self.layer2(x)\n",
    "        return x\n",
    "\n",
    "    def parameters(self):\n",
    "        return self.layer1.parameters() + self.layer2.parameters()"
   ]
  },
  {
   "cell_type": "code",
   "execution_count": 13,
   "metadata": {},
   "outputs": [
    {
     "name": "stdout",
     "output_type": "stream",
     "text": [
      "[[Variable(data=7.951878873144293, grad=0), _op=<ops.basic_ops.AddOperation object at 0x0000024BD3364BF0>, _prev={Variable(data=0.2162371039003872, grad=0), _op=None, _prev=set(), Variable(data=7.735641769243905, grad=0), _op=<ops.basic_ops.AddOperation object at 0x0000024BD3364AA0>, _prev={Variable(data=1.0000883372331861, grad=0), _op=<ops.basic_ops.MulOperation object at 0x0000024BD3364E00>, _prev={Variable(data=0.24443123227278207, grad=0), _op=None, _prev=set(), Variable(data=4.09149161477491, grad=0), _op=<activation_functions.relu.ReLUActivation object at 0x0000024BD3343950>, _prev={Variable(data=4.09149161477491, grad=0), _op=<ops.basic_ops.AddOperation object at 0x0000024BD3364380>, _prev={Variable(data=4.084500865038372, grad=0), _op=<ops.basic_ops.AddOperation object at 0x0000024BD33647D0>, _prev={Variable(data=1.136005537265655, grad=0), _op=<ops.basic_ops.AddOperation object at 0x0000024BD33641A0>, _prev={Variable(data=0.5716784237078287, grad=0), _op=<ops.basic_ops.MulOperation object at 0x0000024BD33640E0>, _prev={Variable(data=0.28583921185391437, grad=0), _op=None, _prev=set(), Variable(data=2, grad=0), _op=None, _prev=set()}, Variable(data=0.5643271135578264, grad=0), _op=<ops.basic_ops.AddOperation object at 0x0000024BD3343140>, _prev={Variable(data=0.5643271135578264, grad=0), _op=<ops.basic_ops.MulOperation object at 0x0000024BD33428A0>, _prev={Variable(data=1, grad=0), _op=None, _prev=set(), Variable(data=0.5643271135578264, grad=0), _op=None, _prev=set()}, Variable(data=0, grad=0), _op=None, _prev=set()}}, Variable(data=2.9484953277727164, grad=0), _op=<ops.basic_ops.MulOperation object at 0x0000024BD3364530>, _prev={Variable(data=3, grad=0), _op=None, _prev=set(), Variable(data=0.9828317759242388, grad=0), _op=None, _prev=set()}}, Variable(data=0.0069907497365374605, grad=0), _op=None, _prev=set()}}}, Variable(data=6.735553432010719, grad=0), _op=<ops.basic_ops.AddOperation object at 0x0000024BD3364E30>, _prev={Variable(data=6.6168300493555225, grad=0), _op=<ops.basic_ops.AddOperation object at 0x0000024BD3364230>, _prev={Variable(data=3.274745178953363, grad=0), _op=<ops.basic_ops.AddOperation object at 0x0000024BD3364680>, _prev={Variable(data=0, grad=0), _op=None, _prev=set(), Variable(data=3.274745178953363, grad=0), _op=<ops.basic_ops.MulOperation object at 0x0000024BD33648F0>, _prev={Variable(data=3.497728335137563, grad=0), _op=<activation_functions.relu.ReLUActivation object at 0x0000024BD3343950>, _prev={Variable(data=3.497728335137563, grad=0), _op=<ops.basic_ops.AddOperation object at 0x0000024BD3341B50>, _prev={Variable(data=3.3293185711080677, grad=0), _op=<ops.basic_ops.AddOperation object at 0x0000024BD3343B90>, _prev={Variable(data=0.9424723308076858, grad=0), _op=<ops.basic_ops.MulOperation object at 0x0000024BD3343F80>, _prev={Variable(data=0.3141574436025619, grad=0), _op=None, _prev=set(), Variable(data=3, grad=0), _op=None, _prev=set()}, Variable(data=2.386846240300382, grad=0), _op=<ops.basic_ops.AddOperation object at 0x0000024BD3340E90>, _prev={Variable(data=1.8190229721525253, grad=0), _op=<ops.basic_ops.MulOperation object at 0x0000024BD3340CB0>, _prev={Variable(data=0.9095114860762626, grad=0), _op=None, _prev=set(), Variable(data=2, grad=0), _op=None, _prev=set()}, Variable(data=0.5678232681478568, grad=0), _op=<ops.basic_ops.AddOperation object at 0x0000024BD3341DC0>, _prev={Variable(data=0.5678232681478568, grad=0), _op=<ops.basic_ops.MulOperation object at 0x0000024BD3343320>, _prev={Variable(data=1, grad=0), _op=None, _prev=set(), Variable(data=0.5678232681478568, grad=0), _op=None, _prev=set()}, Variable(data=0, grad=0), _op=None, _prev=set()}}}, Variable(data=0.16840976402949526, grad=0), _op=None, _prev=set()}}, Variable(data=0.936249149499648, grad=0), _op=None, _prev=set()}}, Variable(data=3.342084870402159, grad=0), _op=<ops.basic_ops.MulOperation object at 0x0000024BD3364A10>, _prev={Variable(data=5.958685983605671, grad=0), _op=<activation_functions.relu.ReLUActivation object at 0x0000024BD3343950>, _prev={Variable(data=5.958685983605671, grad=0), _op=<ops.basic_ops.AddOperation object at 0x0000024BD3342870>, _prev={Variable(data=5.058825711457857, grad=0), _op=<ops.basic_ops.AddOperation object at 0x0000024BD33425D0>, _prev={Variable(data=2.434149987034009, grad=0), _op=<ops.basic_ops.AddOperation object at 0x0000024BD33425A0>, _prev={Variable(data=1.9237893739874434, grad=0), _op=<ops.basic_ops.MulOperation object at 0x0000024BD3342090>, _prev={Variable(data=2, grad=0), _op=None, _prev=set(), Variable(data=0.9618946869937217, grad=0), _op=None, _prev=set()}, Variable(data=0.5103606130465653, grad=0), _op=<ops.basic_ops.AddOperation object at 0x0000024BD33419D0>, _prev={Variable(data=0.5103606130465653, grad=0), _op=<ops.basic_ops.MulOperation object at 0x0000024BD3341FA0>, _prev={Variable(data=1, grad=0), _op=None, _prev=set(), Variable(data=0.5103606130465653, grad=0), _op=None, _prev=set()}, Variable(data=0, grad=0), _op=None, _prev=set()}}, Variable(data=2.6246757244238483, grad=0), _op=<ops.basic_ops.MulOperation object at 0x0000024BD3342630>, _prev={Variable(data=3, grad=0), _op=None, _prev=set(), Variable(data=0.8748919081412828, grad=0), _op=None, _prev=set()}}, Variable(data=0.8998602721478135, grad=0), _op=None, _prev=set()}}, Variable(data=0.5608761528292223, grad=0), _op=None, _prev=set()}}, Variable(data=0.11872338265519643, grad=0), _op=<ops.basic_ops.MulOperation object at 0x0000024BD3365070>, _prev={Variable(data=5.551953443102317, grad=0), _op=<activation_functions.relu.ReLUActivation object at 0x0000024BD3343950>, _prev={Variable(data=5.551953443102317, grad=0), _op=<ops.basic_ops.AddOperation object at 0x0000024BD3342ED0>, _prev={Variable(data=0.8045215523461946, grad=0), _op=None, _prev=set(), Variable(data=4.747431890756122, grad=0), _op=<ops.basic_ops.AddOperation object at 0x0000024BD3342BD0>, _prev={Variable(data=1.8079933185323909, grad=0), _op=<ops.basic_ops.AddOperation object at 0x0000024BD3342540>, _prev={Variable(data=1.5487543689276437, grad=0), _op=<ops.basic_ops.MulOperation object at 0x0000024BD33423C0>, _prev={Variable(data=0.7743771844638219, grad=0), _op=None, _prev=set(), Variable(data=2, grad=0), _op=None, _prev=set()}, Variable(data=0.25923894960474714, grad=0), _op=<ops.basic_ops.AddOperation object at 0x0000024BD3342A50>, _prev={Variable(data=0.25923894960474714, grad=0), _op=<ops.basic_ops.MulOperation object at 0x0000024BD33420F0>, _prev={Variable(data=0.25923894960474714, grad=0), _op=None, _prev=set(), Variable(data=1, grad=0), _op=None, _prev=set()}, Variable(data=0, grad=0), _op=None, _prev=set()}}, Variable(data=2.9394385722237306, grad=0), _op=<ops.basic_ops.MulOperation object at 0x0000024BD3342240>, _prev={Variable(data=0.9798128574079102, grad=0), _op=None, _prev=set(), Variable(data=3, grad=0), _op=None, _prev=set()}}}}, Variable(data=0.02138407388892949, grad=0), _op=None, _prev=set()}}}}]]\n"
     ]
    }
   ],
   "source": [
    "input_size = 3\n",
    "hidden_size = 4\n",
    "output_size = 1\n",
    "\n",
    "model = SimpleModel(input_size, hidden_size, output_size)\n",
    "optimizer = SGDOptimizer(model.parameters(), learning_rate=0.01)\n",
    "\n",
    "\n",
    "x = [[Variable(1), Variable(2), Variable(3)]]\n",
    "\n",
    "output = model(x)\n",
    "\n",
    "print(output)\n"
   ]
  },
  {
   "cell_type": "code",
   "execution_count": 18,
   "metadata": {},
   "outputs": [],
   "source": [
    "output[0][0].grad = 1"
   ]
  },
  {
   "cell_type": "code",
   "execution_count": 19,
   "metadata": {},
   "outputs": [
    {
     "data": {
      "text/plain": [
       "[[Variable(data=0.5678232681478568, grad=0), _op=None, _prev=set(),\n",
       "  Variable(data=0.9095114860762626, grad=0), _op=None, _prev=set(),\n",
       "  Variable(data=0.3141574436025619, grad=0), _op=None, _prev=set()],\n",
       " [Variable(data=0.5103606130465653, grad=0), _op=None, _prev=set(),\n",
       "  Variable(data=0.9618946869937217, grad=0), _op=None, _prev=set(),\n",
       "  Variable(data=0.8748919081412828, grad=0), _op=None, _prev=set()],\n",
       " [Variable(data=0.25923894960474714, grad=0), _op=None, _prev=set(),\n",
       "  Variable(data=0.7743771844638219, grad=0), _op=None, _prev=set(),\n",
       "  Variable(data=0.9798128574079102, grad=0), _op=None, _prev=set()],\n",
       " [Variable(data=0.5643271135578264, grad=0), _op=None, _prev=set(),\n",
       "  Variable(data=0.28583921185391437, grad=0), _op=None, _prev=set(),\n",
       "  Variable(data=0.9828317759242388, grad=0), _op=None, _prev=set()]]"
      ]
     },
     "execution_count": 19,
     "metadata": {},
     "output_type": "execute_result"
    }
   ],
   "source": [
    "model.layer1.weight"
   ]
  },
  {
   "cell_type": "code",
   "execution_count": 20,
   "metadata": {},
   "outputs": [],
   "source": [
    "output[0][0].backward()"
   ]
  },
  {
   "cell_type": "code",
   "execution_count": 22,
   "metadata": {},
   "outputs": [
    {
     "data": {
      "text/plain": [
       "[[Variable(data=0.936249149499648, grad=3.497728335137563), _op=None, _prev=set(),\n",
       "  Variable(data=0.5608761528292223, grad=5.958685983605671), _op=None, _prev=set(),\n",
       "  Variable(data=0.02138407388892949, grad=5.551953443102317), _op=None, _prev=set(),\n",
       "  Variable(data=0.24443123227278207, grad=4.09149161477491), _op=None, _prev=set()]]"
      ]
     },
     "execution_count": 22,
     "metadata": {},
     "output_type": "execute_result"
    }
   ],
   "source": [
    "model.layer2.weight"
   ]
  },
  {
   "cell_type": "code",
   "execution_count": 23,
   "metadata": {},
   "outputs": [],
   "source": [
    "optimizer.step()"
   ]
  },
  {
   "cell_type": "code",
   "execution_count": 25,
   "metadata": {},
   "outputs": [
    {
     "data": {
      "text/plain": [
       "[[Variable(data=0.9012718661482724, grad=3.497728335137563), _op=None, _prev=set(),\n",
       "  Variable(data=0.5012892929931656, grad=5.958685983605671), _op=None, _prev=set(),\n",
       "  Variable(data=-0.03413546054209368, grad=5.551953443102317), _op=None, _prev=set(),\n",
       "  Variable(data=0.20351631612503296, grad=4.09149161477491), _op=None, _prev=set()]]"
      ]
     },
     "execution_count": 25,
     "metadata": {},
     "output_type": "execute_result"
    }
   ],
   "source": [
    "model.layer2.weight"
   ]
  }
 ],
 "metadata": {
  "kernelspec": {
   "display_name": "Python 3",
   "language": "python",
   "name": "python3"
  },
  "language_info": {
   "codemirror_mode": {
    "name": "ipython",
    "version": 3
   },
   "file_extension": ".py",
   "mimetype": "text/x-python",
   "name": "python",
   "nbconvert_exporter": "python",
   "pygments_lexer": "ipython3",
   "version": "3.12.5"
  }
 },
 "nbformat": 4,
 "nbformat_minor": 2
}
