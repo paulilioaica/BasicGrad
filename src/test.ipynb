{
 "cells": [
  {
   "cell_type": "code",
   "execution_count": 4,
   "metadata": {},
   "outputs": [],
   "source": [
    "from variable.variable import Variable\n",
    "from activation_functions.relu import ReLUActivation\n",
    "relu_fn = ReLUActivation()"
   ]
  },
  {
   "cell_type": "code",
   "execution_count": 2,
   "metadata": {},
   "outputs": [],
   "source": [
    "x = Variable(3)\n",
    "y = Variable(4)"
   ]
  },
  {
   "cell_type": "code",
   "execution_count": 3,
   "metadata": {},
   "outputs": [],
   "source": [
    "z = x + y "
   ]
  },
  {
   "cell_type": "code",
   "execution_count": 15,
   "metadata": {},
   "outputs": [],
   "source": [
    "from tests.simple_model import SimpleModel\n",
    "input_size = 3\n",
    "hidden_size = 10\n",
    "output_size = 1\n",
    "\n",
    "\n",
    "model = SimpleModel(input_size, hidden_size, output_size)"
   ]
  },
  {
   "cell_type": "code",
   "execution_count": 16,
   "metadata": {},
   "outputs": [],
   "source": [
    "from optimizer.sgd import SGDOptimizer\n",
    "optimizer = SGDOptimizer(model.parameters(), learning_rate=0.01)\n",
    "\n",
    "\n",
    "x = [[Variable(1), Variable(2), Variable(3)]]\n",
    "\n",
    "output = model(x)\n"
   ]
  },
  {
   "cell_type": "code",
   "execution_count": 18,
   "metadata": {},
   "outputs": [
    {
     "data": {
      "text/plain": [
       "Variable(data=22.202891226731147, grad=0), _op=<ops.basic_ops.AddOperation object at 0x000001A4E59546E0>, _prev={Variable(data=21.34506513117321, grad=0), _op=<ops.basic_ops.AddOperation object at 0x000001A4E5955D30>, _prev={Variable(data=18.785318070346722, grad=0), _op=<ops.basic_ops.AddOperation object at 0x000001A4E5955B20>, _prev={Variable(data=15.522542579125057, grad=0), _op=<ops.basic_ops.AddOperation object at 0x000001A4E5955F10>, _prev={Variable(data=15.120938920710385, grad=0), _op=<ops.basic_ops.AddOperation object at 0x000001A4E59560C0>, _prev={Variable(data=13.71345562549015, grad=0), _op=<ops.basic_ops.AddOperation object at 0x000001A4E5956240>, _prev={Variable(data=11.7430527853118, grad=0), _op=<ops.basic_ops.AddOperation object at 0x000001A4E5956360>, _prev={Variable(data=10.367206055308792, grad=0), _op=<ops.basic_ops.AddOperation object at 0x000001A4E5956AE0>, _prev={Variable(data=8.515390650766307, grad=0), _op=<ops.basic_ops.AddOperation object at 0x000001A4E5954230>, _prev={Variable(data=5.3020006360317895, grad=0), _op=<ops.basic_ops.AddOperation object at 0x000001A4E59540E0>, _prev={Variable(data=3.5535126973313256, grad=0), _op=<ops.basic_ops.MulOperation object at 0x000001A4E5957C20>, _prev={Variable(data=0.7229546907451869, grad=0), _op=None, _prev=set(), _name=weight_1_0, Variable(data=4.915263353044346, grad=0), _op=<activation_functions.relu.ReLUActivation object at 0x000001A4E59DD700>, _prev={Variable(data=4.915263353044346, grad=0), _op=<ops.basic_ops.AddOperation object at 0x000001A4E59DE2A0>, _prev={Variable(data=0.5349136285016091, grad=0), _op=None, _prev=set(), _name=bias_1, Variable(data=4.380349724542737, grad=0), _op=<ops.basic_ops.AddOperation object at 0x000001A4E59DE1B0>, _prev={Variable(data=2.2561980439355875, grad=0), _op=<ops.basic_ops.MulOperation object at 0x000001A4E59DE750>, _prev={Variable(data=0.7520660146451958, grad=0), _op=None, _prev=set(), _name=weight_2_1, Variable(data=3, grad=0), _op=None, _prev=set(), _name=None}, _name=None, Variable(data=2.124151680607149, grad=0), _op=<ops.basic_ops.AddOperation object at 0x000001A4E59DE660>, _prev={Variable(data=0.9013932839081157, grad=0), _op=<ops.basic_ops.AddOperation object at 0x000001A4E59DE0F0>, _prev={Variable(data=0, grad=0), _op=None, _prev=set(), _name=sum_value_0_1, Variable(data=0.9013932839081157, grad=0), _op=<ops.basic_ops.MulOperation object at 0x000001A4E59DE0C0>, _prev={Variable(data=0.9013932839081157, grad=0), _op=None, _prev=set(), _name=weight_0_1, Variable(data=1, grad=0), _op=None, _prev=set(), _name=None}, _name=None}, _name=None, Variable(data=1.2227583966990336, grad=0), _op=<ops.basic_ops.MulOperation object at 0x000001A4E59DE570>, _prev={Variable(data=0.6113791983495168, grad=0), _op=None, _prev=set(), _name=weight_1_1, Variable(data=2, grad=0), _op=None, _prev=set(), _name=None}, _name=None}, _name=None}, _name=None}, _name=None}, _name=None}, _name=None, Variable(data=1.7484879387004637, grad=0), _op=<ops.basic_ops.AddOperation object at 0x000001A4E5957200>, _prev={Variable(data=1.7484879387004637, grad=0), _op=<ops.basic_ops.MulOperation object at 0x000001A4E5956C00>, _prev={Variable(data=0.4014413012642606, grad=0), _op=None, _prev=set(), _name=weight_0_0, Variable(data=4.355525784701136, grad=0), _op=<activation_functions.relu.ReLUActivation object at 0x000001A4E59DD700>, _prev={Variable(data=4.355525784701136, grad=0), _op=<ops.basic_ops.AddOperation object at 0x000001A4E59DDF70>, _prev={Variable(data=4.201837603559214, grad=0), _op=<ops.basic_ops.AddOperation object at 0x000001A4E59DDE80>, _prev={Variable(data=1.7976565476985513, grad=0), _op=<ops.basic_ops.MulOperation object at 0x000001A4E59DDD90>, _prev={Variable(data=3, grad=0), _op=None, _prev=set(), _name=None, Variable(data=0.5992188492328504, grad=0), _op=None, _prev=set(), _name=weight_2_0}, _name=None, Variable(data=2.4041810558606636, grad=0), _op=<ops.basic_ops.AddOperation object at 0x000001A4E59DDCA0>, _prev={Variable(data=0.433250252251442, grad=0), _op=<ops.basic_ops.AddOperation object at 0x000001A4E59DC680>, _prev={Variable(data=0.433250252251442, grad=0), _op=<ops.basic_ops.MulOperation object at 0x000001A4E59DC890>, _prev={Variable(data=0.433250252251442, grad=0), _op=None, _prev=set(), _name=weight_0_0, Variable(data=1, grad=0), _op=None, _prev=set(), _name=None}, _name=None, Variable(data=0, grad=0), _op=None, _prev=set(), _name=sum_value_0_0}, _name=None, Variable(data=1.9709308036092215, grad=0), _op=<ops.basic_ops.MulOperation object at 0x000001A4E59DDBB0>, _prev={Variable(data=2, grad=0), _op=None, _prev=set(), _name=None, Variable(data=0.9854654018046107, grad=0), _op=None, _prev=set(), _name=weight_1_0}, _name=None}, _name=None}, _name=None, Variable(data=0.15368818114192184, grad=0), _op=None, _prev=set(), _name=bias_0}, _name=None}, _name=None}, _name=None, Variable(data=0, grad=0), _op=None, _prev=set(), _name=sum_value_0_0}, _name=None}, _name=None, Variable(data=3.213390014734517, grad=0), _op=<ops.basic_ops.MulOperation object at 0x000001A4E59544A0>, _prev={Variable(data=0.8229510082843892, grad=0), _op=None, _prev=set(), _name=weight_2_0, Variable(data=3.904716055252779, grad=0), _op=<activation_functions.relu.ReLUActivation object at 0x000001A4E59DD700>, _prev={Variable(data=3.904716055252779, grad=0), _op=<ops.basic_ops.AddOperation object at 0x000001A4E59DECC0>, _prev={Variable(data=2.930013488475925, grad=0), _op=<ops.basic_ops.AddOperation object at 0x000001A4E59DE8A0>, _prev={Variable(data=0.8702597020467747, grad=0), _op=<ops.basic_ops.MulOperation object at 0x000001A4E59DEAB0>, _prev={Variable(data=3, grad=0), _op=None, _prev=set(), _name=None, Variable(data=0.2900865673489249, grad=0), _op=None, _prev=set(), _name=weight_2_2}, _name=None, Variable(data=2.05975378642915, grad=0), _op=<ops.basic_ops.AddOperation object at 0x000001A4E59DE9C0>, _prev={Variable(data=0.8600618005766953, grad=0), _op=<ops.basic_ops.AddOperation object at 0x000001A4E59DE7E0>, _prev={Variable(data=0, grad=0), _op=None, _prev=set(), _name=sum_value_0_2, Variable(data=0.8600618005766953, grad=0), _op=<ops.basic_ops.MulOperation object at 0x000001A4E59DE390>, _prev={Variable(data=0.8600618005766953, grad=0), _op=None, _prev=set(), _name=weight_0_2, Variable(data=1, grad=0), _op=None, _prev=set(), _name=None}, _name=None}, _name=None, Variable(data=1.1996919858524548, grad=0), _op=<ops.basic_ops.MulOperation object at 0x000001A4E59DE120>, _prev={Variable(data=0.5998459929262274, grad=0), _op=None, _prev=set(), _name=weight_1_2, Variable(data=2, grad=0), _op=None, _prev=set(), _name=None}, _name=None}, _name=None}, _name=None, Variable(data=0.9747025667768542, grad=0), _op=None, _prev=set(), _name=bias_2}, _name=None}, _name=None}, _name=None}, _name=None, Variable(data=1.851815404542486, grad=0), _op=<ops.basic_ops.MulOperation object at 0x000001A4E5956900>, _prev={Variable(data=0.38064695417845185, grad=0), _op=None, _prev=set(), _name=weight_3_0, Variable(data=4.8649158602601945, grad=0), _op=<activation_functions.relu.ReLUActivation object at 0x000001A4E59DD700>, _prev={Variable(data=4.8649158602601945, grad=0), _op=<ops.basic_ops.AddOperation object at 0x000001A4E59DF320>, _prev={Variable(data=0.10976109754179819, grad=0), _op=None, _prev=set(), _name=bias_3, Variable(data=4.755154762718396, grad=0), _op=<ops.basic_ops.AddOperation object at 0x000001A4E59DF230>, _prev={Variable(data=2.8843228627733204, grad=0), _op=<ops.basic_ops.MulOperation object at 0x000001A4E59DF080>, _prev={Variable(data=3, grad=0), _op=None, _prev=set(), _name=None, Variable(data=0.9614409542577734, grad=0), _op=None, _prev=set(), _name=weight_2_3}, _name=None, Variable(data=1.8708318999450761, grad=0), _op=<ops.basic_ops.AddOperation object at 0x000001A4E59DF020>, _prev={Variable(data=1.8707400018793, grad=0), _op=<ops.basic_ops.MulOperation object at 0x000001A4E59DEFC0>, _prev={Variable(data=0.93537000093965, grad=0), _op=None, _prev=set(), _name=weight_1_3, Variable(data=2, grad=0), _op=None, _prev=set(), _name=None}, _name=None, Variable(data=9.189806577625248e-05, grad=0), _op=<ops.basic_ops.AddOperation object at 0x000001A4E59DEEA0>, _prev={Variable(data=0, grad=0), _op=None, _prev=set(), _name=sum_value_0_3, Variable(data=9.189806577625248e-05, grad=0), _op=<ops.basic_ops.MulOperation object at 0x000001A4E59DEDB0>, _prev={Variable(data=9.189806577625248e-05, grad=0), _op=None, _prev=set(), _name=weight_0_3, Variable(data=1, grad=0), _op=None, _prev=set(), _name=None}, _name=None}, _name=None}, _name=None}, _name=None}, _name=None}, _name=None}, _name=None}, _name=None, Variable(data=1.3758467300030093, grad=0), _op=<ops.basic_ops.MulOperation object at 0x000001A4E5954D70>, _prev={Variable(data=3.1527982361846076, grad=0), _op=<activation_functions.relu.ReLUActivation object at 0x000001A4E59DD700>, _prev={Variable(data=3.1527982361846076, grad=0), _op=<ops.basic_ops.AddOperation object at 0x000001A4E59DF950>, _prev={Variable(data=0.1110279603335893, grad=0), _op=None, _prev=set(), _name=bias_4, Variable(data=3.0417702758510186, grad=0), _op=<ops.basic_ops.AddOperation object at 0x000001A4E59DF920>, _prev={Variable(data=2.162105076456113, grad=0), _op=<ops.basic_ops.MulOperation object at 0x000001A4E59DF830>, _prev={Variable(data=0.7207016921520376, grad=0), _op=None, _prev=set(), _name=weight_2_4, Variable(data=3, grad=0), _op=None, _prev=set(), _name=None}, _name=None, Variable(data=0.8796651993949057, grad=0), _op=<ops.basic_ops.AddOperation object at 0x000001A4E59DF770>, _prev={Variable(data=0.7167754336101507, grad=0), _op=<ops.basic_ops.AddOperation object at 0x000001A4E59DF440>, _prev={Variable(data=0, grad=0), _op=None, _prev=set(), _name=sum_value_0_4, Variable(data=0.7167754336101507, grad=0), _op=<ops.basic_ops.MulOperation object at 0x000001A4E59DF470>, _prev={Variable(data=0.7167754336101507, grad=0), _op=None, _prev=set(), _name=weight_0_4, Variable(data=1, grad=0), _op=None, _prev=set(), _name=None}, _name=None}, _name=None, Variable(data=0.162889765784755, grad=0), _op=<ops.basic_ops.MulOperation object at 0x000001A4E59DF350>, _prev={Variable(data=2, grad=0), _op=None, _prev=set(), _name=None, Variable(data=0.0814448828923775, grad=0), _op=None, _prev=set(), _name=weight_1_4}, _name=None}, _name=None}, _name=None}, _name=None}, _name=None, Variable(data=0.4363890826290251, grad=0), _op=None, _prev=set(), _name=weight_4_0}, _name=None}, _name=None, Variable(data=1.9704028401783507, grad=0), _op=<ops.basic_ops.MulOperation object at 0x000001A4E5956300>, _prev={Variable(data=2.718072405248535, grad=0), _op=<activation_functions.relu.ReLUActivation object at 0x000001A4E59DD700>, _prev={Variable(data=2.718072405248535, grad=0), _op=<ops.basic_ops.AddOperation object at 0x000001A4E596E870>, _prev={Variable(data=2.246933135075559, grad=0), _op=<ops.basic_ops.AddOperation object at 0x000001A4E596E2A0>, _prev={Variable(data=0.11116500384932904, grad=0), _op=<ops.basic_ops.MulOperation object at 0x000001A4E596E450>, _prev={Variable(data=3, grad=0), _op=None, _prev=set(), _name=None, Variable(data=0.03705500128310968, grad=0), _op=None, _prev=set(), _name=weight_2_5}, _name=None, Variable(data=2.13576813122623, grad=0), _op=<ops.basic_ops.AddOperation object at 0x000001A4E596E4E0>, _prev={Variable(data=1.2654070113552098, grad=0), _op=<ops.basic_ops.MulOperation object at 0x000001A4E596ED20>, _prev={Variable(data=0.6327035056776049, grad=0), _op=None, _prev=set(), _name=weight_1_5, Variable(data=2, grad=0), _op=None, _prev=set(), _name=None}, _name=None, Variable(data=0.87036111987102, grad=0), _op=<ops.basic_ops.AddOperation object at 0x000001A4E596E510>, _prev={Variable(data=0.87036111987102, grad=0), _op=<ops.basic_ops.MulOperation object at 0x000001A4E596DD90>, _prev={Variable(data=1, grad=0), _op=None, _prev=set(), _name=None, Variable(data=0.87036111987102, grad=0), _op=None, _prev=set(), _name=weight_0_5}, _name=None, Variable(data=0, grad=0), _op=None, _prev=set(), _name=sum_value_0_5}, _name=None}, _name=None}, _name=None, Variable(data=0.4711392701729761, grad=0), _op=None, _prev=set(), _name=bias_5}, _name=None}, _name=None, Variable(data=0.7249265458762424, grad=0), _op=None, _prev=set(), _name=weight_5_0}, _name=None}, _name=None, Variable(data=1.4074832952202356, grad=0), _op=<ops.basic_ops.MulOperation object at 0x000001A4E59561E0>, _prev={Variable(data=2.4283315080449017, grad=0), _op=<activation_functions.relu.ReLUActivation object at 0x000001A4E59DD700>, _prev={Variable(data=2.4283315080449017, grad=0), _op=<ops.basic_ops.AddOperation object at 0x000001A4E596FB00>, _prev={Variable(data=2.1513247252375214, grad=0), _op=<ops.basic_ops.AddOperation object at 0x000001A4E596DF70>, _prev={Variable(data=1.690926235914299, grad=0), _op=<ops.basic_ops.AddOperation object at 0x000001A4E596D6D0>, _prev={Variable(data=0.15894413552374642, grad=0), _op=<ops.basic_ops.AddOperation object at 0x000001A4E596DBB0>, _prev={Variable(data=0.15894413552374642, grad=0), _op=<ops.basic_ops.MulOperation object at 0x000001A4E596E8D0>, _prev={Variable(data=1, grad=0), _op=None, _prev=set(), _name=None, Variable(data=0.15894413552374642, grad=0), _op=None, _prev=set(), _name=weight_0_6}, _name=None, Variable(data=0, grad=0), _op=None, _prev=set(), _name=sum_value_0_6}, _name=None, Variable(data=1.5319821003905525, grad=0), _op=<ops.basic_ops.MulOperation object at 0x000001A4E596C440>, _prev={Variable(data=0.7659910501952762, grad=0), _op=None, _prev=set(), _name=weight_1_6, Variable(data=2, grad=0), _op=None, _prev=set(), _name=None}, _name=None}, _name=None, Variable(data=0.4603984893232226, grad=0), _op=<ops.basic_ops.MulOperation object at 0x000001A4E596C470>, _prev={Variable(data=3, grad=0), _op=None, _prev=set(), _name=None, Variable(data=0.15346616310774086, grad=0), _op=None, _prev=set(), _name=weight_2_6}, _name=None}, _name=None, Variable(data=0.27700678280738034, grad=0), _op=None, _prev=set(), _name=bias_6}, _name=None}, _name=None, Variable(data=0.5796092051506709, grad=0), _op=None, _prev=set(), _name=weight_6_0}, _name=None}, _name=None, Variable(data=0.4016036584146717, grad=0), _op=<ops.basic_ops.MulOperation object at 0x000001A4E5955EE0>, _prev={Variable(data=0.26671894201036594, grad=0), _op=None, _prev=set(), _name=weight_7_0, Variable(data=1.5057185492249872, grad=0), _op=<activation_functions.relu.ReLUActivation object at 0x000001A4E59DD700>, _prev={Variable(data=1.5057185492249872, grad=0), _op=<ops.basic_ops.AddOperation object at 0x000001A4E596F4A0>, _prev={Variable(data=0.3539729343871091, grad=0), _op=None, _prev=set(), _name=bias_7, Variable(data=1.1517456148378782, grad=0), _op=<ops.basic_ops.AddOperation object at 0x000001A4E596F230>, _prev={Variable(data=1.091355792002218, grad=0), _op=<ops.basic_ops.AddOperation object at 0x000001A4E596F200>, _prev={Variable(data=0.25850743881098726, grad=0), _op=<ops.basic_ops.AddOperation object at 0x000001A4E596F620>, _prev={Variable(data=0.25850743881098726, grad=0), _op=<ops.basic_ops.MulOperation object at 0x000001A4E596F8C0>, _prev={Variable(data=0.25850743881098726, grad=0), _op=None, _prev=set(), _name=weight_0_7, Variable(data=1, grad=0), _op=None, _prev=set(), _name=None}, _name=None, Variable(data=0, grad=0), _op=None, _prev=set(), _name=sum_value_0_7}, _name=None, Variable(data=0.8328483531912307, grad=0), _op=<ops.basic_ops.MulOperation object at 0x000001A4E596F8F0>, _prev={Variable(data=0.41642417659561537, grad=0), _op=None, _prev=set(), _name=weight_1_7, Variable(data=2, grad=0), _op=None, _prev=set(), _name=None}, _name=None}, _name=None, Variable(data=0.06038982283566008, grad=0), _op=<ops.basic_ops.MulOperation object at 0x000001A4E596F260>, _prev={Variable(data=0.020129940945220026, grad=0), _op=None, _prev=set(), _name=weight_2_7, Variable(data=3, grad=0), _op=None, _prev=set(), _name=None}, _name=None}, _name=None}, _name=None}, _name=None}, _name=None}, _name=None, Variable(data=3.2627754912216655, grad=0), _op=<ops.basic_ops.MulOperation object at 0x000001A4E5955CD0>, _prev={Variable(data=0.9890813024779153, grad=0), _op=None, _prev=set(), _name=weight_8_0, Variable(data=3.298794025372367, grad=0), _op=<activation_functions.relu.ReLUActivation object at 0x000001A4E59DD700>, _prev={Variable(data=3.298794025372367, grad=0), _op=<ops.basic_ops.AddOperation object at 0x000001A4E596E4B0>, _prev={Variable(data=0.30298669637849096, grad=0), _op=None, _prev=set(), _name=bias_8, Variable(data=2.995807328993876, grad=0), _op=<ops.basic_ops.AddOperation object at 0x000001A4E596EDB0>, _prev={Variable(data=1.0810138321472507, grad=0), _op=<ops.basic_ops.AddOperation object at 0x000001A4E596EF30>, _prev={Variable(data=0.5110193027085729, grad=0), _op=<ops.basic_ops.AddOperation object at 0x000001A4E596EB40>, _prev={Variable(data=0, grad=0), _op=None, _prev=set(), _name=sum_value_0_8, Variable(data=0.5110193027085729, grad=0), _op=<ops.basic_ops.MulOperation object at 0x000001A4E596E3F0>, _prev={Variable(data=1, grad=0), _op=None, _prev=set(), _name=None, Variable(data=0.5110193027085729, grad=0), _op=None, _prev=set(), _name=weight_0_8}, _name=None}, _name=None, Variable(data=0.5699945294386779, grad=0), _op=<ops.basic_ops.MulOperation object at 0x000001A4E596E990>, _prev={Variable(data=0.28499726471933895, grad=0), _op=None, _prev=set(), _name=weight_1_8, Variable(data=2, grad=0), _op=None, _prev=set(), _name=None}, _name=None}, _name=None, Variable(data=1.9147934968466251, grad=0), _op=<ops.basic_ops.MulOperation object at 0x000001A4E596E9F0>, _prev={Variable(data=0.638264498948875, grad=0), _op=None, _prev=set(), _name=weight_2_8, Variable(data=3, grad=0), _op=None, _prev=set(), _name=None}, _name=None}, _name=None}, _name=None}, _name=None}, _name=None}, _name=None, Variable(data=2.55974706082649, grad=0), _op=<ops.basic_ops.MulOperation object at 0x000001A4E5955D00>, _prev={Variable(data=3.924646782604161, grad=0), _op=<activation_functions.relu.ReLUActivation object at 0x000001A4E59DD700>, _prev={Variable(data=3.924646782604161, grad=0), _op=<ops.basic_ops.AddOperation object at 0x000001A4E55FFB90>, _prev={Variable(data=2.9493391513200153, grad=0), _op=<ops.basic_ops.AddOperation object at 0x000001A4E55FF7D0>, _prev={Variable(data=1.5921292843332362, grad=0), _op=<ops.basic_ops.MulOperation object at 0x000001A4E55FDBE0>, _prev={Variable(data=0.5307097614444121, grad=0), _op=None, _prev=set(), _name=weight_2_9, Variable(data=3, grad=0), _op=None, _prev=set(), _name=None}, _name=None, Variable(data=1.3572098669867794, grad=0), _op=<ops.basic_ops.AddOperation object at 0x000001A4E55FD7F0>, _prev={Variable(data=0.9052157284820126, grad=0), _op=<ops.basic_ops.MulOperation object at 0x000001A4E55FE390>, _prev={Variable(data=0.4526078642410063, grad=0), _op=None, _prev=set(), _name=weight_1_9, Variable(data=2, grad=0), _op=None, _prev=set(), _name=None}, _name=None, Variable(data=0.4519941385047669, grad=0), _op=<ops.basic_ops.AddOperation object at 0x000001A4E55FC170>, _prev={Variable(data=0, grad=0), _op=None, _prev=set(), _name=sum_value_0_9, Variable(data=0.4519941385047669, grad=0), _op=<ops.basic_ops.MulOperation object at 0x000001A4E5586660>, _prev={Variable(data=0.4519941385047669, grad=0), _op=None, _prev=set(), _name=weight_0_9, Variable(data=1, grad=0), _op=None, _prev=set(), _name=None}, _name=None}, _name=None}, _name=None}, _name=None, Variable(data=0.9753076312841458, grad=0), _op=None, _prev=set(), _name=bias_9}, _name=None}, _name=None, Variable(data=0.6522235509632269, grad=0), _op=None, _prev=set(), _name=weight_9_0}, _name=None}, _name=None, Variable(data=0.8578260955579375, grad=0), _op=None, _prev=set(), _name=bias_0}, _name=None"
      ]
     },
     "execution_count": 18,
     "metadata": {},
     "output_type": "execute_result"
    }
   ],
   "source": [
    "output[0][0]"
   ]
  },
  {
   "cell_type": "code",
   "execution_count": 1,
   "metadata": {},
   "outputs": [],
   "source": [
    "from loss_functions.mse import MSELoss\n",
    "from variable.variable import Variable\n",
    "loss_fn = MSELoss()\n",
    "\n",
    "output = [[Variable(1)]]\n",
    "target = [[Variable(2)]]\n",
    "loss = loss_fn(output, target)\n"
   ]
  },
  {
   "cell_type": "code",
   "execution_count": 2,
   "metadata": {},
   "outputs": [
    {
     "data": {
      "text/plain": [
       "1.0"
      ]
     },
     "execution_count": 2,
     "metadata": {},
     "output_type": "execute_result"
    }
   ],
   "source": [
    "loss"
   ]
  },
  {
   "cell_type": "code",
   "execution_count": 9,
   "metadata": {},
   "outputs": [
    {
     "data": {
      "text/plain": [
       "[[Variable(data=0.7062873974296746, grad=5.546320427261335), _op=None, _prev=set(), _name=weight_0_0,\n",
       "  Variable(data=0.20634341552299018, grad=11.09264085452267), _op=None, _prev=set(), _name=weight_1_0,\n",
       "  Variable(data=0.7281460899453482, grad=16.638961281784006), _op=None, _prev=set(), _name=weight_2_0],\n",
       " [Variable(data=0.43724008196859243, grad=1.5812971218813787), _op=None, _prev=set(), _name=weight_0_1,\n",
       "  Variable(data=0.7331721718684626, grad=3.1625942437627574), _op=None, _prev=set(), _name=weight_1_1,\n",
       "  Variable(data=0.10937273568924444, grad=4.743891365644136), _op=None, _prev=set(), _name=weight_2_1],\n",
       " [Variable(data=0.5802114515851918, grad=1.8596711430384438), _op=None, _prev=set(), _name=weight_0_2,\n",
       "  Variable(data=0.43314358626383864, grad=3.7193422860768877), _op=None, _prev=set(), _name=weight_1_2,\n",
       "  Variable(data=0.49592629761143137, grad=5.5790134291153315), _op=None, _prev=set(), _name=weight_2_2],\n",
       " [Variable(data=0.4097319345556446, grad=9.375586574251747), _op=None, _prev=set(), _name=weight_0_3,\n",
       "  Variable(data=0.8651874917028937, grad=18.751173148503494), _op=None, _prev=set(), _name=weight_1_3,\n",
       "  Variable(data=0.00847175766481556, grad=28.12675972275524), _op=None, _prev=set(), _name=weight_2_3]]"
      ]
     },
     "execution_count": 9,
     "metadata": {},
     "output_type": "execute_result"
    }
   ],
   "source": [
    "model.layer1.weight"
   ]
  },
  {
   "cell_type": "code",
   "execution_count": 10,
   "metadata": {},
   "outputs": [],
   "source": [
    "optimizer.step()"
   ]
  },
  {
   "cell_type": "code",
   "execution_count": 11,
   "metadata": {},
   "outputs": [
    {
     "data": {
      "text/plain": [
       "[[Variable(data=0.6508241931570613, grad=5.546320427261335), _op=None, _prev=set(), _name=weight_0_0,\n",
       "  Variable(data=0.09541700697776347, grad=11.09264085452267), _op=None, _prev=set(), _name=weight_1_0,\n",
       "  Variable(data=0.5617564771275082, grad=16.638961281784006), _op=None, _prev=set(), _name=weight_2_0],\n",
       " [Variable(data=0.4214271107497786, grad=1.5812971218813787), _op=None, _prev=set(), _name=weight_0_1,\n",
       "  Variable(data=0.701546229430835, grad=3.1625942437627574), _op=None, _prev=set(), _name=weight_1_1,\n",
       "  Variable(data=0.06193382203280308, grad=4.743891365644136), _op=None, _prev=set(), _name=weight_2_1],\n",
       " [Variable(data=0.5616147401548074, grad=1.8596711430384438), _op=None, _prev=set(), _name=weight_0_2,\n",
       "  Variable(data=0.39595016340306977, grad=3.7193422860768877), _op=None, _prev=set(), _name=weight_1_2,\n",
       "  Variable(data=0.44013616332027805, grad=5.5790134291153315), _op=None, _prev=set(), _name=weight_2_2],\n",
       " [Variable(data=0.3159760688131271, grad=9.375586574251747), _op=None, _prev=set(), _name=weight_0_3,\n",
       "  Variable(data=0.6776757602178587, grad=18.751173148503494), _op=None, _prev=set(), _name=weight_1_3,\n",
       "  Variable(data=-0.27279583956273684, grad=28.12675972275524), _op=None, _prev=set(), _name=weight_2_3]]"
      ]
     },
     "execution_count": 11,
     "metadata": {},
     "output_type": "execute_result"
    }
   ],
   "source": [
    "model.layer1.weight"
   ]
  },
  {
   "cell_type": "code",
   "execution_count": 16,
   "metadata": {},
   "outputs": [],
   "source": [
    "optimizer.zero_grad()"
   ]
  },
  {
   "cell_type": "code",
   "execution_count": 17,
   "metadata": {},
   "outputs": [
    {
     "data": {
      "text/plain": [
       "[[Variable(data=0.6508241931570613, grad=0), _op=None, _prev=set(), _name=weight_0_0,\n",
       "  Variable(data=0.09541700697776347, grad=0), _op=None, _prev=set(), _name=weight_1_0,\n",
       "  Variable(data=0.5617564771275082, grad=0), _op=None, _prev=set(), _name=weight_2_0],\n",
       " [Variable(data=0.4214271107497786, grad=0), _op=None, _prev=set(), _name=weight_0_1,\n",
       "  Variable(data=0.701546229430835, grad=0), _op=None, _prev=set(), _name=weight_1_1,\n",
       "  Variable(data=0.06193382203280308, grad=0), _op=None, _prev=set(), _name=weight_2_1],\n",
       " [Variable(data=0.5616147401548074, grad=0), _op=None, _prev=set(), _name=weight_0_2,\n",
       "  Variable(data=0.39595016340306977, grad=0), _op=None, _prev=set(), _name=weight_1_2,\n",
       "  Variable(data=0.44013616332027805, grad=0), _op=None, _prev=set(), _name=weight_2_2],\n",
       " [Variable(data=0.3159760688131271, grad=0), _op=None, _prev=set(), _name=weight_0_3,\n",
       "  Variable(data=0.6776757602178587, grad=0), _op=None, _prev=set(), _name=weight_1_3,\n",
       "  Variable(data=-0.27279583956273684, grad=0), _op=None, _prev=set(), _name=weight_2_3]]"
      ]
     },
     "execution_count": 17,
     "metadata": {},
     "output_type": "execute_result"
    }
   ],
   "source": [
    "model.layer1.weight"
   ]
  }
 ],
 "metadata": {
  "kernelspec": {
   "display_name": "Python 3",
   "language": "python",
   "name": "python3"
  },
  "language_info": {
   "codemirror_mode": {
    "name": "ipython",
    "version": 3
   },
   "file_extension": ".py",
   "mimetype": "text/x-python",
   "name": "python",
   "nbconvert_exporter": "python",
   "pygments_lexer": "ipython3",
   "version": "3.12.6"
  }
 },
 "nbformat": 4,
 "nbformat_minor": 2
}
