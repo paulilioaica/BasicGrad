{
 "cells": [
  {
   "cell_type": "code",
   "execution_count": 1,
   "metadata": {},
   "outputs": [],
   "source": [
    "from variable.variable import Variable\n",
    "from activation_functions.relu import ReLUActivation\n",
    "relu_fn = ReLUActivation()"
   ]
  },
  {
   "cell_type": "code",
   "execution_count": 2,
   "metadata": {},
   "outputs": [],
   "source": [
    "x = Variable(3)\n",
    "y = Variable(4)"
   ]
  },
  {
   "cell_type": "code",
   "execution_count": 3,
   "metadata": {},
   "outputs": [],
   "source": [
    "z = x + y "
   ]
  },
  {
   "cell_type": "code",
   "execution_count": 4,
   "metadata": {},
   "outputs": [],
   "source": [
    "from nn.linear_layer import LinearLayer\n",
    "from variable.variable import Variable\n",
    "from optimizer.sgd import SGDOptimizer\n",
    "\n",
    "class SimpleModel:\n",
    "    def __init__(self, input_size, hidden_size, output_size):\n",
    "        self.layer1 = LinearLayer(input_size, hidden_size)\n",
    "        self.layer2 = LinearLayer(hidden_size, output_size)\n",
    "        self.relu = ReLUActivation()\n",
    "\n",
    "    def __call__(self, x):\n",
    "        x = self.layer1(x)\n",
    "        x = self.relu(x)\n",
    "        x = self.layer2(x)\n",
    "        return x\n",
    "\n",
    "    def parameters(self):\n",
    "        return self.layer1.parameters() + self.layer2.parameters()"
   ]
  },
  {
   "cell_type": "code",
   "execution_count": 7,
   "metadata": {},
   "outputs": [
    {
     "name": "stdout",
     "output_type": "stream",
     "text": [
      "[[Variable(data=6.538953051769206, grad=0), _op=<ops.basic_ops.AddOperation object at 0x00000286C6C0F950>, _prev={Variable(data=0.6381995610729086, grad=0), _op=None, _prev=set(), Variable(data=5.900753490696298, grad=0), _op=<ops.basic_ops.AddOperation object at 0x00000286C6C0F860>, _prev={Variable(data=0.6572369690188352, grad=0), _op=<ops.basic_ops.MulOperation object at 0x00000286C6C0F770>, _prev={Variable(data=3.131911292689195, grad=0), _op=<activation_functions.relu.ReLUActivation object at 0x00000286C6C0DEE0>, _prev={Variable(data=3.131911292689195, grad=0), _op=<ops.basic_ops.AddOperation object at 0x00000286C6C0EFF0>, _prev={Variable(data=2.8222151131525646, grad=0), _op=<ops.basic_ops.AddOperation object at 0x00000286C6C0EF00>, _prev={Variable(data=0.7482718676592496, grad=0), _op=<ops.basic_ops.MulOperation object at 0x00000286C6C0EE10>, _prev={Variable(data=3, grad=0), _op=None, _prev=set(), Variable(data=0.24942395588641653, grad=0), _op=None, _prev=set()}, Variable(data=2.073943245493315, grad=0), _op=<ops.basic_ops.AddOperation object at 0x00000286C6C0ED20>, _prev={Variable(data=1.6808422290905802, grad=0), _op=<ops.basic_ops.MulOperation object at 0x00000286C6C0EC30>, _prev={Variable(data=2, grad=0), _op=None, _prev=set(), Variable(data=0.8404211145452901, grad=0), _op=None, _prev=set()}, Variable(data=0.39310101640273476, grad=0), _op=<ops.basic_ops.AddOperation object at 0x00000286C6C0EB40>, _prev={Variable(data=0.39310101640273476, grad=0), _op=<ops.basic_ops.MulOperation object at 0x00000286C6C0EA50>, _prev={Variable(data=0.39310101640273476, grad=0), _op=None, _prev=set(), Variable(data=1, grad=0), _op=None, _prev=set()}, Variable(data=0, grad=0), _op=None, _prev=set()}}}, Variable(data=0.30969617953663053, grad=0), _op=None, _prev=set()}}, Variable(data=0.20985171915725076, grad=0), _op=None, _prev=set()}, Variable(data=5.243516521677463, grad=0), _op=<ops.basic_ops.AddOperation object at 0x00000286C6C0F680>, _prev={Variable(data=1.4165106889322308, grad=0), _op=<ops.basic_ops.MulOperation object at 0x00000286C6C0F590>, _prev={Variable(data=0.37213017458075925, grad=0), _op=None, _prev=set(), Variable(data=3.806492420368941, grad=0), _op=<activation_functions.relu.ReLUActivation object at 0x00000286C6C0DEE0>, _prev={Variable(data=3.806492420368941, grad=0), _op=<ops.basic_ops.AddOperation object at 0x00000286C6C0E960>, _prev={Variable(data=0.786994004695649, grad=0), _op=None, _prev=set(), Variable(data=3.0194984156732922, grad=0), _op=<ops.basic_ops.AddOperation object at 0x00000286C6C0E870>, _prev={Variable(data=0.85102025411293, grad=0), _op=<ops.basic_ops.MulOperation object at 0x00000286C690E060>, _prev={Variable(data=3, grad=0), _op=None, _prev=set(), Variable(data=0.28367341803764334, grad=0), _op=None, _prev=set()}, Variable(data=2.1684781615603623, grad=0), _op=<ops.basic_ops.AddOperation object at 0x00000286C690E1B0>, _prev={Variable(data=1.2549558092593653, grad=0), _op=<ops.basic_ops.MulOperation object at 0x00000286C690DA00>, _prev={Variable(data=0.6274779046296827, grad=0), _op=None, _prev=set(), Variable(data=2, grad=0), _op=None, _prev=set()}, Variable(data=0.9135223523009971, grad=0), _op=<ops.basic_ops.AddOperation object at 0x00000286C690D610>, _prev={Variable(data=0, grad=0), _op=None, _prev=set(), Variable(data=0.9135223523009971, grad=0), _op=<ops.basic_ops.MulOperation object at 0x00000286C690DA60>, _prev={Variable(data=1, grad=0), _op=None, _prev=set(), Variable(data=0.9135223523009971, grad=0), _op=None, _prev=set()}}}}}}}, Variable(data=3.8270058327452317, grad=0), _op=<ops.basic_ops.AddOperation object at 0x00000286C6C0F4A0>, _prev={Variable(data=1.0403794632695877, grad=0), _op=<ops.basic_ops.MulOperation object at 0x00000286C6C0F3B0>, _prev={Variable(data=1.0691272130629823, grad=0), _op=<activation_functions.relu.ReLUActivation object at 0x00000286C6C0DEE0>, _prev={Variable(data=1.0691272130629823, grad=0), _op=<ops.basic_ops.AddOperation object at 0x00000286C690D640>, _prev={Variable(data=0.4692313062972172, grad=0), _op=None, _prev=set(), Variable(data=0.5998959067657652, grad=0), _op=<ops.basic_ops.AddOperation object at 0x00000286C690DC40>, _prev={Variable(data=0.33310965896179023, grad=0), _op=<ops.basic_ops.AddOperation object at 0x00000286C6466420>, _prev={Variable(data=0.2660558376335975, grad=0), _op=<ops.basic_ops.MulOperation object at 0x00000286C6895A90>, _prev={Variable(data=2, grad=0), _op=None, _prev=set(), Variable(data=0.13302791881679876, grad=0), _op=None, _prev=set()}, Variable(data=0.06705382132819271, grad=0), _op=<ops.basic_ops.AddOperation object at 0x00000286C6C0E780>, _prev={Variable(data=0, grad=0), _op=None, _prev=set(), Variable(data=0.06705382132819271, grad=0), _op=<ops.basic_ops.MulOperation object at 0x00000286C6C0E690>, _prev={Variable(data=0.06705382132819271, grad=0), _op=None, _prev=set(), Variable(data=1, grad=0), _op=None, _prev=set()}}}, Variable(data=0.266786247803975, grad=0), _op=<ops.basic_ops.MulOperation object at 0x00000286C690DEB0>, _prev={Variable(data=3, grad=0), _op=None, _prev=set(), Variable(data=0.08892874926799166, grad=0), _op=None, _prev=set()}}}}, Variable(data=0.9731110110731966, grad=0), _op=None, _prev=set()}, Variable(data=2.786626369475644, grad=0), _op=<ops.basic_ops.AddOperation object at 0x00000286C6C0F2C0>, _prev={Variable(data=2.786626369475644, grad=0), _op=<ops.basic_ops.MulOperation object at 0x00000286C6C0F1D0>, _prev={Variable(data=4.014002559658363, grad=0), _op=<activation_functions.relu.ReLUActivation object at 0x00000286C6C0DEE0>, _prev={Variable(data=4.014002559658363, grad=0), _op=<ops.basic_ops.AddOperation object at 0x00000286C6C0E5A0>, _prev={Variable(data=0.3889285944482691, grad=0), _op=None, _prev=set(), Variable(data=3.6250739652100936, grad=0), _op=<ops.basic_ops.AddOperation object at 0x00000286C6C0E4B0>, _prev={Variable(data=1.3770167930385318, grad=0), _op=<ops.basic_ops.AddOperation object at 0x00000286C6C0E2D0>, _prev={Variable(data=0.7790947286824774, grad=0), _op=<ops.basic_ops.MulOperation object at 0x00000286C6C0E1E0>, _prev={Variable(data=0.3895473643412387, grad=0), _op=None, _prev=set(), Variable(data=2, grad=0), _op=None, _prev=set()}, Variable(data=0.5979220643560543, grad=0), _op=<ops.basic_ops.AddOperation object at 0x00000286C6C0E0F0>, _prev={Variable(data=0.5979220643560543, grad=0), _op=<ops.basic_ops.MulOperation object at 0x00000286C6C0E000>, _prev={Variable(data=0.5979220643560543, grad=0), _op=None, _prev=set(), Variable(data=1, grad=0), _op=None, _prev=set()}, Variable(data=0, grad=0), _op=None, _prev=set()}}, Variable(data=2.2480571721715616, grad=0), _op=<ops.basic_ops.MulOperation object at 0x00000286C6C0E3C0>, _prev={Variable(data=3, grad=0), _op=None, _prev=set(), Variable(data=0.7493523907238538, grad=0), _op=None, _prev=set()}}}}, Variable(data=0.6942263558777644, grad=0), _op=None, _prev=set()}, Variable(data=0, grad=0), _op=None, _prev=set()}}}}}]]\n"
     ]
    }
   ],
   "source": [
    "input_size = 3\n",
    "hidden_size = 4\n",
    "output_size = 1\n",
    "\n",
    "model = SimpleModel(input_size, hidden_size, output_size)\n",
    "x = [[Variable(1), Variable(2), Variable(3)]]\n",
    "\n",
    "output = model(x)\n",
    "\n",
    "print(output)\n"
   ]
  },
  {
   "cell_type": "code",
   "execution_count": 11,
   "metadata": {},
   "outputs": [],
   "source": []
  },
  {
   "cell_type": "code",
   "execution_count": 9,
   "metadata": {},
   "outputs": [
    {
     "data": {
      "text/plain": [
       "[[Variable(data=0.6942263558777644, grad=0), _op=None, _prev=set(),\n",
       "  Variable(data=0.9731110110731966, grad=0), _op=None, _prev=set(),\n",
       "  Variable(data=0.37213017458075925, grad=0), _op=None, _prev=set(),\n",
       "  Variable(data=0.20985171915725076, grad=0), _op=None, _prev=set()]]"
      ]
     },
     "execution_count": 9,
     "metadata": {},
     "output_type": "execute_result"
    }
   ],
   "source": [
    "model.layer2.weight"
   ]
  }
 ],
 "metadata": {
  "kernelspec": {
   "display_name": "Python 3",
   "language": "python",
   "name": "python3"
  },
  "language_info": {
   "codemirror_mode": {
    "name": "ipython",
    "version": 3
   },
   "file_extension": ".py",
   "mimetype": "text/x-python",
   "name": "python",
   "nbconvert_exporter": "python",
   "pygments_lexer": "ipython3",
   "version": "3.12.5"
  }
 },
 "nbformat": 4,
 "nbformat_minor": 2
}
