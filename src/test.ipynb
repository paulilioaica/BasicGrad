{
 "cells": [
  {
   "cell_type": "code",
   "execution_count": 1,
   "metadata": {},
   "outputs": [],
   "source": [
    "from variable.variable import Variable\n",
    "from activation_functions.relu import ReLUActivation\n",
    "relu_fn = ReLUActivation()"
   ]
  },
  {
   "cell_type": "code",
   "execution_count": 2,
   "metadata": {},
   "outputs": [],
   "source": [
    "x = Variable(3)\n",
    "y = Variable(4)"
   ]
  },
  {
   "cell_type": "code",
   "execution_count": 3,
   "metadata": {},
   "outputs": [],
   "source": [
    "z = x + y "
   ]
  },
  {
   "cell_type": "code",
   "execution_count": 4,
   "metadata": {},
   "outputs": [],
   "source": [
    "z.grad = 10"
   ]
  },
  {
   "cell_type": "code",
   "execution_count": 6,
   "metadata": {},
   "outputs": [],
   "source": [
    "z.backward()"
   ]
  },
  {
   "cell_type": "code",
   "execution_count": 8,
   "metadata": {},
   "outputs": [
    {
     "data": {
      "text/plain": [
       "(Variable(data=3, grad=10, _op=None, name=None, requires_grad=True),\n",
       " Variable(data=4, grad=10, _op=None, name=None, requires_grad=True))"
      ]
     },
     "execution_count": 8,
     "metadata": {},
     "output_type": "execute_result"
    }
   ],
   "source": [
    "x, y"
   ]
  },
  {
   "cell_type": "code",
   "execution_count": 4,
   "metadata": {},
   "outputs": [
    {
     "name": "stdout",
     "output_type": "stream",
     "text": [
      "Loss: 2.3025850929940455\n"
     ]
    },
    {
     "data": {
      "text/plain": [
       "[[Variable(data=0.1, grad=-5.0, _op=None, name=None, requires_grad=True),\n",
       "  Variable(data=0.2, grad=0.0, _op=None, name=None, requires_grad=True),\n",
       "  Variable(data=0.7, grad=0.0, _op=None, name=None, requires_grad=True)],\n",
       " [Variable(data=0.7, grad=0.0, _op=None, name=None, requires_grad=True),\n",
       "  Variable(data=0.2, grad=0.0, _op=None, name=None, requires_grad=True),\n",
       "  Variable(data=0.1, grad=-5.0, _op=None, name=None, requires_grad=True)]]"
      ]
     },
     "execution_count": 4,
     "metadata": {},
     "output_type": "execute_result"
    }
   ],
   "source": [
    "from loss_functions.cce import CategoricalCrossEntropy\n",
    "from variable.variable import Variable\n",
    "\n",
    "cce = CategoricalCrossEntropy()\n",
    "\n",
    "prediction = Variable([[0.1, 0.2, 0.7], [0.7, 0.2, 0.1]], requires_grad=True)\n",
    "target = Variable([[1, 0, 0], [0, 0, 1]], requires_grad=True)\n",
    "\n",
    "loss = cce(prediction, target)\n",
    "print(loss)\n",
    "## Should be 2.3\n",
    "loss.backward()\n",
    "prediction\n"
   ]
  },
  {
   "cell_type": "code",
   "execution_count": 5,
   "metadata": {},
   "outputs": [
    {
     "data": {
      "text/plain": [
       "set()"
      ]
     },
     "execution_count": 5,
     "metadata": {},
     "output_type": "execute_result"
    }
   ],
   "source": [
    "prediction[0][0][0]._prev"
   ]
  },
  {
   "cell_type": "code",
   "execution_count": 6,
   "metadata": {},
   "outputs": [],
   "source": [
    "from models.simple_model import SimpleModel\n",
    "input_size = 3\n",
    "hidden_size = 10\n",
    "output_size = 1\n",
    "\n",
    "\n",
    "model = SimpleModel(input_size, hidden_size, output_size)"
   ]
  },
  {
   "cell_type": "code",
   "execution_count": 7,
   "metadata": {},
   "outputs": [
    {
     "name": "stdout",
     "output_type": "stream",
     "text": [
      "Loss: 1.0\n",
      "Loss: 1.0\n",
      "Loss: 1.0\n",
      "Loss: 1.0\n",
      "Loss: 1.0\n",
      "Loss: 1.0\n",
      "Loss: 1.0\n",
      "Loss: 1.0\n",
      "Loss: 1.0\n",
      "Loss: 1.0\n",
      "Loss: 1.0\n",
      "Loss: 1.0\n",
      "Loss: 1.0\n",
      "Loss: 1.0\n",
      "Loss: 1.0\n",
      "Loss: 1.0\n",
      "Loss: 1.0\n",
      "Loss: 1.0\n",
      "Loss: 1.0\n",
      "Loss: 1.0\n",
      "Loss: 1.0\n",
      "Loss: 1.0\n",
      "Loss: 1.0\n",
      "Loss: 1.0\n",
      "Loss: 1.0\n",
      "Loss: 1.0\n",
      "Loss: 1.0\n",
      "Loss: 1.0\n",
      "Loss: 1.0\n",
      "Loss: 1.0\n",
      "Loss: 1.0\n",
      "Loss: 1.0\n",
      "Loss: 1.0\n",
      "Loss: 1.0\n",
      "Loss: 1.0\n",
      "Loss: 1.0\n",
      "Loss: 1.0\n",
      "Loss: 1.0\n",
      "Loss: 1.0\n",
      "Loss: 1.0\n",
      "Loss: 1.0\n",
      "Loss: 1.0\n",
      "Loss: 1.0\n",
      "Loss: 1.0\n",
      "Loss: 1.0\n",
      "Loss: 1.0\n",
      "Loss: 1.0\n",
      "Loss: 1.0\n",
      "Loss: 1.0\n",
      "Loss: 1.0\n",
      "Loss: 1.0\n",
      "Loss: 1.0\n",
      "Loss: 1.0\n",
      "Loss: 1.0\n",
      "Loss: 1.0\n",
      "Loss: 1.0\n",
      "Loss: 1.0\n",
      "Loss: 1.0\n",
      "Loss: 1.0\n",
      "Loss: 1.0\n",
      "Loss: 1.0\n",
      "Loss: 1.0\n",
      "Loss: 1.0\n",
      "Loss: 1.0\n",
      "Loss: 1.0\n",
      "Loss: 1.0\n",
      "Loss: 1.0\n",
      "Loss: 1.0\n",
      "Loss: 1.0\n",
      "Loss: 1.0\n",
      "Loss: 1.0\n",
      "Loss: 1.0\n",
      "Loss: 1.0\n",
      "Loss: 1.0\n",
      "Loss: 1.0\n",
      "Loss: 1.0\n",
      "Loss: 1.0\n",
      "Loss: 1.0\n",
      "Loss: 1.0\n",
      "Loss: 1.0\n",
      "Loss: 1.0\n",
      "Loss: 1.0\n",
      "Loss: 1.0\n",
      "Loss: 1.0\n",
      "Loss: 1.0\n",
      "Loss: 1.0\n",
      "Loss: 1.0\n",
      "Loss: 1.0\n",
      "Loss: 1.0\n",
      "Loss: 1.0\n",
      "Loss: 1.0\n",
      "Loss: 1.0\n",
      "Loss: 1.0\n",
      "Loss: 1.0\n",
      "Loss: 1.0\n",
      "Loss: 1.0\n",
      "Loss: 1.0\n",
      "Loss: 1.0\n",
      "Loss: 1.0\n",
      "Loss: 1.0\n"
     ]
    }
   ],
   "source": [
    "from optimizer.sgd import SGDOptimizer\n",
    "from loss_functions.mse import MSELoss\n",
    "from variable.variable import Variable\n",
    "import random\n",
    "\n",
    "loss_fn = MSELoss()\n",
    "\n",
    "optimizer = SGDOptimizer(model.parameters(), learning_rate=0.0001)\n",
    "\n",
    "losses = []\n",
    "#let's feed random input and make the model always output 0\n",
    "\n",
    "for i in range(100):\n",
    "    x = [[Variable(random.randint(0, 10)) for i in range(input_size)]]\n",
    "    y = [[Variable(0)]]\n",
    "    output = model(x)\n",
    "    loss = loss_fn(output, y)\n",
    "    optimizer.zero_grad()\n",
    "    loss.backward()\n",
    "    optimizer.step()\n",
    "    print(loss)\n",
    "    losses.append(loss.loss)\n"
   ]
  },
  {
   "cell_type": "code",
   "execution_count": 8,
   "metadata": {},
   "outputs": [
    {
     "data": {
      "image/png": "[encoded data removed]",
      "text/plain": [
       "<Figure size 640x480 with 1 Axes>"
      ]
     },
     "metadata": {},
     "output_type": "display_data"
    }
   ],
   "source": [
    "#plot the losses\n",
    "import matplotlib.pyplot as plt\n",
    "plt.plot(losses)\n",
    "plt.ylabel('loss')\n",
    "plt.xlabel('iteration')\n",
    "plt.show()\n",
    "\n"
   ]
  },
  {
   "cell_type": "code",
   "execution_count": 9,
   "metadata": {},
   "outputs": [],
   "source": [
    "import torch\n",
    "import torchvision\n",
    "\n",
    "trainset = torchvision.datasets.MNIST(root='./data', train=True, download=True)"
   ]
  },
  {
   "cell_type": "code",
   "execution_count": 1,
   "metadata": {},
   "outputs": [
    {
     "name": "stdout",
     "output_type": "stream",
     "text": [
      "Batch of images shape: torch.Size([1, 784])\n",
      "Batch of labels shape: torch.Size([1])\n"
     ]
    }
   ],
   "source": [
    "import torch\n",
    "import torchvision\n",
    "import torchvision.transforms as transforms\n",
    "from torch.utils.data import Subset\n",
    "\n",
    "# Transform the images to Tensors and normalize pixel values to [0, 1]\n",
    "transform = transforms.Compose([transforms.ToTensor(), transforms.Lambda(lambda x: x.view(-1))])\n",
    "\n",
    "# Download the entire MNIST dataset (but we'll only use a subset of it)\n",
    "trainset = torchvision.datasets.MNIST(root='./data', train=True, download=True, transform=transform)\n",
    "\n",
    "# Create a subset of the dataset, selecting only the first 10 samples\n",
    "subset_indices = list(range(10))  # Use the first 10 samples\n",
    "train_subset = Subset(trainset, subset_indices)\n",
    "\n",
    "# Create a DataLoader for the subset\n",
    "trainloader = torch.utils.data.DataLoader(train_subset, batch_size=1, shuffle=True)\n",
    "\n",
    "# Example of iterating through the subset of the data\n",
    "for images, labels in trainloader:\n",
    "    print(f\"Batch of images shape: {images.shape}\")\n",
    "    print(f\"Batch of labels shape: {labels.shape}\")\n",
    "    break\n"
   ]
  },
  {
   "cell_type": "code",
   "execution_count": 2,
   "metadata": {},
   "outputs": [],
   "source": [
    "from activation_functions.relu import ReLUActivation\n",
    "\n",
    "relu_fn = ReLUActivation()"
   ]
  },
  {
   "cell_type": "code",
   "execution_count": 3,
   "metadata": {},
   "outputs": [],
   "source": [
    "#lets takecare of formatting first \n",
    "        # images = Variable(images.tolist())\n",
    "\n",
    "\n",
    "        # one_hot_labels = torch.zeros(64, 10)\n",
    "        # one_hot_labels.scatter_(1, labels.view(-1, 1), 1)\n",
    "        # labels = Variable(one_hot_labels.tolist())\n",
    "        # optimizer.zero_grad()\n",
    "\n",
    "#from that we know that we need to make the images a list of Variables and the labels a list of Variables\n",
    "\n",
    "#lets takecare of formatting first\n",
    "from variable.variable import Variable\n",
    "input_images = []\n",
    "labels_encoded = []\n",
    "\n",
    "for images, labels in trainloader:\n",
    "    input_images.append([Variable(images.tolist(), requires_grad=False)])\n",
    "    one_hot_labels = torch.zeros(1, 10)\n",
    "    one_hot_labels.scatter_(1, labels.view(-1, 1), 1)\n",
    "    labels_encoded.append([Variable(one_hot_labels.tolist(), requires_grad=False)])\n",
    "\n"
   ]
  },
  {
   "cell_type": "code",
   "execution_count": 4,
   "metadata": {},
   "outputs": [
    {
     "name": "stdout",
     "output_type": "stream",
     "text": [
      "Loss: 27.631021115928547\n",
      "Loss: 27.631021115928547\n"
     ]
    }
   ],
   "source": [
    "#lets iterate through the data and train the model\n",
    "from models.simple_model import SimpleModel\n",
    "from optimizer.sgd import SGDOptimizer\n",
    "from loss_functions.cce import CategoricalCrossEntropy\n",
    "\n",
    "model = SimpleModel(784, 128, 10)\n",
    "loss_fn = CategoricalCrossEntropy()\n",
    "optimizer = SGDOptimizer(model.parameters(), learning_rate=0.0001)\n",
    "\n",
    "losses = []\n",
    "\n",
    "for epoch in range(5):\n",
    "    for images, labels in zip(input_images, labels_encoded):\n",
    "        optimizer.zero_grad()\n",
    "        output = model(images)\n",
    "        loss = loss_fn(output, labels)\n",
    "        loss.backward()\n",
    "        optimizer.step()\n",
    "        losses.append(loss.loss)\n",
    "        print(loss)"
   ]
  },
  {
   "cell_type": "code",
   "execution_count": 9,
   "metadata": {},
   "outputs": [
    {
     "data": {
      "text/plain": [
       "784"
      ]
     },
     "execution_count": 9,
     "metadata": {},
     "output_type": "execute_result"
    }
   ],
   "source": [
    "len(images[0][0])"
   ]
  },
  {
   "cell_type": "code",
   "execution_count": 12,
   "metadata": {},
   "outputs": [
    {
     "data": {
      "text/plain": [
       "128"
      ]
     },
     "execution_count": 12,
     "metadata": {},
     "output_type": "execute_result"
    }
   ],
   "source": [
    "len(relu_fn(model.layer1(images))[0])"
   ]
  },
  {
   "cell_type": "code",
   "execution_count": 14,
   "metadata": {},
   "outputs": [],
   "source": [
    "from normalization.softmax import Softmax\n",
    "from variable.variable import Variable"
   ]
  },
  {
   "cell_type": "code",
   "execution_count": 15,
   "metadata": {},
   "outputs": [],
   "source": [
    "softmax = Softmax()"
   ]
  },
  {
   "cell_type": "code",
   "execution_count": 16,
   "metadata": {},
   "outputs": [
    {
     "name": "stdout",
     "output_type": "stream",
     "text": [
      "[0.0, 0.0, 0.0, 0.0, 1.0, 0.0, 0.0, 0.0, 0.0, 0.0]\n"
     ]
    },
    {
     "data": {
      "text/plain": [
       "[[Variable(data=0.0, grad=0, _op=<normalization.softmax.Softmax object at 0x000002100DB67A40>, name=None, requires_grad=True),\n",
       "  Variable(data=0.0, grad=0, _op=<normalization.softmax.Softmax object at 0x000002100DB67A40>, name=None, requires_grad=True),\n",
       "  Variable(data=0.0, grad=0, _op=<normalization.softmax.Softmax object at 0x000002100DB67A40>, name=None, requires_grad=True),\n",
       "  Variable(data=0.0, grad=0, _op=<normalization.softmax.Softmax object at 0x000002100DB67A40>, name=None, requires_grad=True),\n",
       "  Variable(data=1.0, grad=0, _op=<normalization.softmax.Softmax object at 0x000002100DB67A40>, name=None, requires_grad=True),\n",
       "  Variable(data=0.0, grad=0, _op=<normalization.softmax.Softmax object at 0x000002100DB67A40>, name=None, requires_grad=True),\n",
       "  Variable(data=0.0, grad=0, _op=<normalization.softmax.Softmax object at 0x000002100DB67A40>, name=None, requires_grad=True),\n",
       "  Variable(data=0.0, grad=0, _op=<normalization.softmax.Softmax object at 0x000002100DB67A40>, name=None, requires_grad=True),\n",
       "  Variable(data=0.0, grad=0, _op=<normalization.softmax.Softmax object at 0x000002100DB67A40>, name=None, requires_grad=True),\n",
       "  Variable(data=0.0, grad=0, _op=<normalization.softmax.Softmax object at 0x000002100DB67A40>, name=None, requires_grad=True)]]"
      ]
     },
     "execution_count": 16,
     "metadata": {},
     "output_type": "execute_result"
    }
   ],
   "source": [
    "softmax(output)"
   ]
  },
  {
   "cell_type": "code",
   "execution_count": 8,
   "metadata": {},
   "outputs": [
    {
     "data": {
      "text/plain": [
       "{Variable(data=7, grad=0, _op=None, name=None, requires_grad=False)}"
      ]
     },
     "execution_count": 8,
     "metadata": {},
     "output_type": "execute_result"
    }
   ],
   "source": [
    "output[0][0]._prev"
   ]
  }
 ],
 "metadata": {
  "kernelspec": {
   "display_name": "Python 3",
   "language": "python",
   "name": "python3"
  },
  "language_info": {
   "codemirror_mode": {
    "name": "ipython",
    "version": 3
   },
   "file_extension": ".py",
   "mimetype": "text/x-python",
   "name": "python",
   "nbconvert_exporter": "python",
   "pygments_lexer": "ipython3",
   "version": "3.12.6"
  }
 },
 "nbformat": 4,
 "nbformat_minor": 2
}
