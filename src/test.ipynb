{
 "cells": [
  {
   "cell_type": "code",
   "execution_count": 1,
   "metadata": {},
   "outputs": [],
   "source": [
    "from variable.variable import Variable\n",
    "from activation_functions.relu import ReLUActivation\n",
    "relu_fn = ReLUActivation()"
   ]
  },
  {
   "cell_type": "code",
   "execution_count": 2,
   "metadata": {},
   "outputs": [],
   "source": [
    "x = Variable(3)\n",
    "y = Variable(4)"
   ]
  },
  {
   "cell_type": "code",
   "execution_count": 3,
   "metadata": {},
   "outputs": [],
   "source": [
    "z = x + y "
   ]
  },
  {
   "cell_type": "code",
   "execution_count": 4,
   "metadata": {},
   "outputs": [],
   "source": [
    "from models.simple_model import SimpleModel\n",
    "input_size = 3\n",
    "hidden_size = 10\n",
    "output_size = 1\n",
    "\n",
    "\n",
    "model = SimpleModel(input_size, hidden_size, output_size)"
   ]
  },
  {
   "cell_type": "code",
   "execution_count": 5,
   "metadata": {},
   "outputs": [],
   "source": [
    "from optimizer.sgd import SGDOptimizer\n",
    "optimizer = SGDOptimizer(model.parameters(), learning_rate=0.01)\n",
    "\n",
    "\n",
    "x = [[Variable(1), Variable(2), Variable(3)]]\n",
    "\n",
    "output = model(x)\n"
   ]
  },
  {
   "cell_type": "code",
   "execution_count": 6,
   "metadata": {},
   "outputs": [
    {
     "data": {
      "text/plain": [
       "Variable(data=16.845228957484792, grad=0), _op=<ops.basic_ops.AddOperation object at 0x000002300AB12A50>, _prev={Variable(data=16.49250871577417, grad=0), _op=<ops.basic_ops.AddOperation object at 0x000002300AB12960>, _prev={Variable(data=2.130102163630818, grad=0), _op=<ops.basic_ops.MulOperation object at 0x000002300AB12870>, _prev={Variable(data=3.4698393022387006, grad=0), _op=<activation_functions.relu.ReLUActivation object at 0x000002300AA44FE0>, _prev={Variable(data=3.4698393022387006, grad=0), _op=<ops.basic_ops.AddOperation object at 0x000002300AB110D0>, _prev={Variable(data=2.8120374623234907, grad=0), _op=<ops.basic_ops.AddOperation object at 0x000002300AB10FE0>, _prev={Variable(data=2.1145528119333643, grad=0), _op=<ops.basic_ops.MulOperation object at 0x000002300AB10EF0>, _prev={Variable(data=3, grad=0), _op=None, _prev=set(), _name=None, Variable(data=0.7048509373111215, grad=0), _op=None, _prev=set(), _name=weight_2_9}, _name=None, Variable(data=0.6974846503901265, grad=0), _op=<ops.basic_ops.AddOperation object at 0x000002300AB10E00>, _prev={Variable(data=0.23140136311568993, grad=0), _op=<ops.basic_ops.MulOperation object at 0x000002300AB10D10>, _prev={Variable(data=0.11570068155784496, grad=0), _op=None, _prev=set(), _name=weight_1_9, Variable(data=2, grad=0), _op=None, _prev=set(), _name=None}, _name=None, Variable(data=0.4660832872744366, grad=0), _op=<ops.basic_ops.AddOperation object at 0x000002300AB10C20>, _prev={Variable(data=0, grad=0), _op=None, _prev=set(), _name=sum_value_0_9, Variable(data=0.4660832872744366, grad=0), _op=<ops.basic_ops.MulOperation object at 0x000002300AB10B30>, _prev={Variable(data=1, grad=0), _op=None, _prev=set(), _name=None, Variable(data=0.4660832872744366, grad=0), _op=None, _prev=set(), _name=weight_0_9}, _name=None}, _name=None}, _name=None}, _name=None, Variable(data=0.6578018399152099, grad=0), _op=None, _prev=set(), _name=bias_9}, _name=None}, _name=None, Variable(data=0.6138907246386023, grad=0), _op=None, _prev=set(), _name=weight_9_0}, _name=None, Variable(data=14.362406552143355, grad=0), _op=<ops.basic_ops.AddOperation object at 0x000002300AB12780>, _prev={Variable(data=1.4222841840848348, grad=0), _op=<ops.basic_ops.MulOperation object at 0x000002300AB12690>, _prev={Variable(data=0.5867264857431019, grad=0), _op=None, _prev=set(), _name=weight_8_0, Variable(data=2.424100869220998, grad=0), _op=<activation_functions.relu.ReLUActivation object at 0x000002300AA44FE0>, _prev={Variable(data=2.424100869220998, grad=0), _op=<ops.basic_ops.AddOperation object at 0x000002300AB10A40>, _prev={Variable(data=1.7564049460364348, grad=0), _op=<ops.basic_ops.AddOperation object at 0x000002300AB10950>, _prev={Variable(data=0.27958648625887206, grad=0), _op=<ops.basic_ops.MulOperation object at 0x000002300AB10860>, _prev={Variable(data=3, grad=0), _op=None, _prev=set(), _name=None, Variable(data=0.09319549541962402, grad=0), _op=None, _prev=set(), _name=weight_2_8}, _name=None, Variable(data=1.4768184597775629, grad=0), _op=<ops.basic_ops.AddOperation object at 0x000002300AB10770>, _prev={Variable(data=0.8298422616869487, grad=0), _op=<ops.basic_ops.AddOperation object at 0x000002300AB10560>, _prev={Variable(data=0, grad=0), _op=None, _prev=set(), _name=sum_value_0_8, Variable(data=0.8298422616869487, grad=0), _op=<ops.basic_ops.MulOperation object at 0x000002300AB10440>, _prev={Variable(data=1, grad=0), _op=None, _prev=set(), _name=None, Variable(data=0.8298422616869487, grad=0), _op=None, _prev=set(), _name=weight_0_8}, _name=None}, _name=None, Variable(data=0.6469761980906141, grad=0), _op=<ops.basic_ops.MulOperation object at 0x000002300AB10650>, _prev={Variable(data=0.32348809904530706, grad=0), _op=None, _prev=set(), _name=weight_1_8, Variable(data=2, grad=0), _op=None, _prev=set(), _name=None}, _name=None}, _name=None}, _name=None, Variable(data=0.6676959231845631, grad=0), _op=None, _prev=set(), _name=bias_8}, _name=None}, _name=None}, _name=None, Variable(data=12.940122368058521, grad=0), _op=<ops.basic_ops.AddOperation object at 0x000002300AB125A0>, _prev={Variable(data=1.9959008070546995, grad=0), _op=<ops.basic_ops.MulOperation object at 0x000002300AB124B0>, _prev={Variable(data=0.9466587809143768, grad=0), _op=None, _prev=set(), _name=weight_7_0, Variable(data=2.1083634856551594, grad=0), _op=<activation_functions.relu.ReLUActivation object at 0x000002300AA44FE0>, _prev={Variable(data=2.1083634856551594, grad=0), _op=<ops.basic_ops.AddOperation object at 0x000002300AB10350>, _prev={Variable(data=0.036033849052369726, grad=0), _op=None, _prev=set(), _name=bias_7, Variable(data=2.07232963660279, grad=0), _op=<ops.basic_ops.AddOperation object at 0x000002300AB10260>, _prev={Variable(data=1.1341050264930175, grad=0), _op=<ops.basic_ops.MulOperation object at 0x000002300AB10170>, _prev={Variable(data=3, grad=0), _op=None, _prev=set(), _name=None, Variable(data=0.3780350088310058, grad=0), _op=None, _prev=set(), _name=weight_2_7}, _name=None, Variable(data=0.9382246101097722, grad=0), _op=<ops.basic_ops.AddOperation object at 0x000002300AB10080>, _prev={Variable(data=0.3343212888591405, grad=0), _op=<ops.basic_ops.MulOperation object at 0x000002300AAFFF50>, _prev={Variable(data=2, grad=0), _op=None, _prev=set(), _name=None, Variable(data=0.16716064442957024, grad=0), _op=None, _prev=set(), _name=weight_1_7}, _name=None, Variable(data=0.6039033212506317, grad=0), _op=<ops.basic_ops.AddOperation object at 0x000002300AAFFE60>, _prev={Variable(data=0.6039033212506317, grad=0), _op=<ops.basic_ops.MulOperation object at 0x000002300AAFFD70>, _prev={Variable(data=1, grad=0), _op=None, _prev=set(), _name=None, Variable(data=0.6039033212506317, grad=0), _op=None, _prev=set(), _name=weight_0_7}, _name=None, Variable(data=0, grad=0), _op=None, _prev=set(), _name=sum_value_0_7}, _name=None}, _name=None}, _name=None}, _name=None}, _name=None}, _name=None, Variable(data=10.944221561003822, grad=0), _op=<ops.basic_ops.AddOperation object at 0x000002300AB123C0>, _prev={Variable(data=2.0861286899431737, grad=0), _op=<ops.basic_ops.MulOperation object at 0x000002300AB122D0>, _prev={Variable(data=0.5365170037607052, grad=0), _op=None, _prev=set(), _name=weight_6_0, Variable(data=3.888280660856033, grad=0), _op=<activation_functions.relu.ReLUActivation object at 0x000002300AA44FE0>, _prev={Variable(data=3.888280660856033, grad=0), _op=<ops.basic_ops.AddOperation object at 0x000002300AAFFC80>, _prev={Variable(data=0.9766127781627455, grad=0), _op=None, _prev=set(), _name=bias_6, Variable(data=2.9116678826932874, grad=0), _op=<ops.basic_ops.AddOperation object at 0x000002300AAFFB90>, _prev={Variable(data=2.115675713578597, grad=0), _op=<ops.basic_ops.MulOperation object at 0x000002300AAFFAA0>, _prev={Variable(data=0.7052252378595324, grad=0), _op=None, _prev=set(), _name=weight_2_6, Variable(data=3, grad=0), _op=None, _prev=set(), _name=None}, _name=None, Variable(data=0.7959921691146904, grad=0), _op=<ops.basic_ops.AddOperation object at 0x000002300AAFF9B0>, _prev={Variable(data=0.6263185352626114, grad=0), _op=<ops.basic_ops.AddOperation object at 0x000002300AAFF7A0>, _prev={Variable(data=0, grad=0), _op=None, _prev=set(), _name=sum_value_0_6, Variable(data=0.6263185352626114, grad=0), _op=<ops.basic_ops.MulOperation object at 0x000002300AAFF6B0>, _prev={Variable(data=0.6263185352626114, grad=0), _op=None, _prev=set(), _name=weight_0_6, Variable(data=1, grad=0), _op=None, _prev=set(), _name=None}, _name=None}, _name=None, Variable(data=0.169673633852079, grad=0), _op=<ops.basic_ops.MulOperation object at 0x000002300AAFF8C0>, _prev={Variable(data=2, grad=0), _op=None, _prev=set(), _name=None, Variable(data=0.0848368169260395, grad=0), _op=None, _prev=set(), _name=weight_1_6}, _name=None}, _name=None}, _name=None}, _name=None}, _name=None}, _name=None, Variable(data=8.858092871060649, grad=0), _op=<ops.basic_ops.AddOperation object at 0x000002300AB121E0>, _prev={Variable(data=1.2353681379522128, grad=0), _op=<ops.basic_ops.MulOperation object at 0x000002300AB120F0>, _prev={Variable(data=1.9280535460336141, grad=0), _op=<activation_functions.relu.ReLUActivation object at 0x000002300AA44FE0>, _prev={Variable(data=1.9280535460336141, grad=0), _op=<ops.basic_ops.AddOperation object at 0x000002300AAFF590>, _prev={Variable(data=0.7551425262891988, grad=0), _op=None, _prev=set(), _name=bias_5, Variable(data=1.1729110197444153, grad=0), _op=<ops.basic_ops.AddOperation object at 0x000002300AAFF4A0>, _prev={Variable(data=0.09128631473686188, grad=0), _op=<ops.basic_ops.MulOperation object at 0x000002300AAFF3B0>, _prev={Variable(data=0.03042877157895396, grad=0), _op=None, _prev=set(), _name=weight_2_5, Variable(data=3, grad=0), _op=None, _prev=set(), _name=None}, _name=None, Variable(data=1.0816247050075534, grad=0), _op=<ops.basic_ops.AddOperation object at 0x000002300AAFF2C0>, _prev={Variable(data=0.5851378302948707, grad=0), _op=<ops.basic_ops.MulOperation object at 0x000002300AAFF1D0>, _prev={Variable(data=2, grad=0), _op=None, _prev=set(), _name=None, Variable(data=0.2925689151474353, grad=0), _op=None, _prev=set(), _name=weight_1_5}, _name=None, Variable(data=0.4964868747126828, grad=0), _op=<ops.basic_ops.AddOperation object at 0x000002300AAFF0E0>, _prev={Variable(data=0.4964868747126828, grad=0), _op=<ops.basic_ops.MulOperation object at 0x000002300AAFEFF0>, _prev={Variable(data=0.4964868747126828, grad=0), _op=None, _prev=set(), _name=weight_0_5, Variable(data=1, grad=0), _op=None, _prev=set(), _name=None}, _name=None, Variable(data=0, grad=0), _op=None, _prev=set(), _name=sum_value_0_5}, _name=None}, _name=None}, _name=None}, _name=None}, _name=None, Variable(data=0.6407333139131993, grad=0), _op=None, _prev=set(), _name=weight_5_0}, _name=None, Variable(data=7.622724733108436, grad=0), _op=<ops.basic_ops.AddOperation object at 0x000002300AB12000>, _prev={Variable(data=3.3735110934222727, grad=0), _op=<ops.basic_ops.MulOperation object at 0x000002300AB11F10>, _prev={Variable(data=0.7130982020530883, grad=0), _op=None, _prev=set(), _name=weight_4_0, Variable(data=4.730780534447518, grad=0), _op=<activation_functions.relu.ReLUActivation object at 0x000002300AA44FE0>, _prev={Variable(data=4.730780534447518, grad=0), _op=<ops.basic_ops.AddOperation object at 0x000002300AAFEF00>, _prev={Variable(data=3.8052026197706668, grad=0), _op=<ops.basic_ops.AddOperation object at 0x000002300AAFEE10>, _prev={Variable(data=2.336263616362497, grad=0), _op=<ops.basic_ops.MulOperation object at 0x000002300AAFED20>, _prev={Variable(data=3, grad=0), _op=None, _prev=set(), _name=None, Variable(data=0.7787545387874989, grad=0), _op=None, _prev=set(), _name=weight_2_4}, _name=None, Variable(data=1.46893900340817, grad=0), _op=<ops.basic_ops.AddOperation object at 0x000002300AAFEC30>, _prev={Variable(data=0.7846870041698141, grad=0), _op=<ops.basic_ops.AddOperation object at 0x000002300AAFEA50>, _prev={Variable(data=0.7846870041698141, grad=0), _op=<ops.basic_ops.MulOperation object at 0x000002300AAFE960>, _prev={Variable(data=0.7846870041698141, grad=0), _op=None, _prev=set(), _name=weight_0_4, Variable(data=1, grad=0), _op=None, _prev=set(), _name=None}, _name=None, Variable(data=0, grad=0), _op=None, _prev=set(), _name=sum_value_0_4}, _name=None, Variable(data=0.6842519992383558, grad=0), _op=<ops.basic_ops.MulOperation object at 0x000002300AAFEB40>, _prev={Variable(data=0.3421259996191779, grad=0), _op=None, _prev=set(), _name=weight_1_4, Variable(data=2, grad=0), _op=None, _prev=set(), _name=None}, _name=None}, _name=None}, _name=None, Variable(data=0.9255779146768506, grad=0), _op=None, _prev=set(), _name=bias_4}, _name=None}, _name=None}, _name=None, Variable(data=4.249213639686164, grad=0), _op=<ops.basic_ops.AddOperation object at 0x000002300AB11E20>, _prev={Variable(data=0.39629076786902384, grad=0), _op=<ops.basic_ops.MulOperation object at 0x000002300AB11D30>, _prev={Variable(data=6.05632533488017, grad=0), _op=<activation_functions.relu.ReLUActivation object at 0x000002300AA44FE0>, _prev={Variable(data=6.05632533488017, grad=0), _op=<ops.basic_ops.AddOperation object at 0x000002300AAFE870>, _prev={Variable(data=0.8666334152871255, grad=0), _op=None, _prev=set(), _name=bias_3, Variable(data=5.189691919593044, grad=0), _op=<ops.basic_ops.AddOperation object at 0x000002300AAFE780>, _prev={Variable(data=2.9640591476289195, grad=0), _op=<ops.basic_ops.MulOperation object at 0x000002300AAFE690>, _prev={Variable(data=3, grad=0), _op=None, _prev=set(), _name=None, Variable(data=0.9880197158763065, grad=0), _op=None, _prev=set(), _name=weight_2_3}, _name=None, Variable(data=2.2256327719641247, grad=0), _op=<ops.basic_ops.AddOperation object at 0x000002300AAFE5A0>, _prev={Variable(data=1.2282483663448998, grad=0), _op=<ops.basic_ops.MulOperation object at 0x000002300AAFE4B0>, _prev={Variable(data=2, grad=0), _op=None, _prev=set(), _name=None, Variable(data=0.6141241831724499, grad=0), _op=None, _prev=set(), _name=weight_1_3}, _name=None, Variable(data=0.9973844056192249, grad=0), _op=<ops.basic_ops.AddOperation object at 0x000002300AAFE3C0>, _prev={Variable(data=0.9973844056192249, grad=0), _op=<ops.basic_ops.MulOperation object at 0x000002300AAFE2D0>, _prev={Variable(data=1, grad=0), _op=None, _prev=set(), _name=None, Variable(data=0.9973844056192249, grad=0), _op=None, _prev=set(), _name=weight_0_3}, _name=None, Variable(data=0, grad=0), _op=None, _prev=set(), _name=sum_value_0_3}, _name=None}, _name=None}, _name=None}, _name=None}, _name=None, Variable(data=0.06543419416170859, grad=0), _op=None, _prev=set(), _name=weight_3_0}, _name=None, Variable(data=3.85292287181714, grad=0), _op=<ops.basic_ops.AddOperation object at 0x000002300AB11C40>, _prev={Variable(data=0.911490966358834, grad=0), _op=<ops.basic_ops.MulOperation object at 0x000002300AB11B50>, _prev={Variable(data=2.419030091955257, grad=0), _op=<activation_functions.relu.ReLUActivation object at 0x000002300AA44FE0>, _prev={Variable(data=2.419030091955257, grad=0), _op=<ops.basic_ops.AddOperation object at 0x000002300AAFE1E0>, _prev={Variable(data=2.0365153467391504, grad=0), _op=<ops.basic_ops.AddOperation object at 0x000002300AAFE0F0>, _prev={Variable(data=1.750307863736484, grad=0), _op=<ops.basic_ops.MulOperation object at 0x000002300AAFE000>, _prev={Variable(data=3, grad=0), _op=None, _prev=set(), _name=None, Variable(data=0.583435954578828, grad=0), _op=None, _prev=set(), _name=weight_2_2}, _name=None, Variable(data=0.2862074830026665, grad=0), _op=<ops.basic_ops.AddOperation object at 0x000002300AAFDF10>, _prev={Variable(data=0.015939609483577533, grad=0), _op=<ops.basic_ops.MulOperation object at 0x000002300AAFDE20>, _prev={Variable(data=0.007969804741788766, grad=0), _op=None, _prev=set(), _name=weight_1_2, Variable(data=2, grad=0), _op=None, _prev=set(), _name=None}, _name=None, Variable(data=0.270267873519089, grad=0), _op=<ops.basic_ops.AddOperation object at 0x000002300AAFDD30>, _prev={Variable(data=0, grad=0), _op=None, _prev=set(), _name=sum_value_0_2, Variable(data=0.270267873519089, grad=0), _op=<ops.basic_ops.MulOperation object at 0x000002300AAFDC40>, _prev={Variable(data=1, grad=0), _op=None, _prev=set(), _name=None, Variable(data=0.270267873519089, grad=0), _op=None, _prev=set(), _name=weight_0_2}, _name=None}, _name=None}, _name=None}, _name=None, Variable(data=0.38251474521610684, grad=0), _op=None, _prev=set(), _name=bias_2}, _name=None}, _name=None, Variable(data=0.37680017681057154, grad=0), _op=None, _prev=set(), _name=weight_2_0}, _name=None, Variable(data=2.9414319054583062, grad=0), _op=<ops.basic_ops.AddOperation object at 0x000002300AB11A60>, _prev={Variable(data=0.07346799021411485, grad=0), _op=<ops.basic_ops.MulOperation object at 0x000002300AB11970>, _prev={Variable(data=2.628717366011813, grad=0), _op=<activation_functions.relu.ReLUActivation object at 0x000002300AA44FE0>, _prev={Variable(data=2.628717366011813, grad=0), _op=<ops.basic_ops.AddOperation object at 0x000002300AAFDB50>, _prev={Variable(data=2.0671327128085553, grad=0), _op=<ops.basic_ops.AddOperation object at 0x000002300AAFDA60>, _prev={Variable(data=1.5324429619781434, grad=0), _op=<ops.basic_ops.MulOperation object at 0x000002300AAFD970>, _prev={Variable(data=3, grad=0), _op=None, _prev=set(), _name=None, Variable(data=0.5108143206593811, grad=0), _op=None, _prev=set(), _name=weight_2_1}, _name=None, Variable(data=0.5346897508304118, grad=0), _op=<ops.basic_ops.AddOperation object at 0x000002300AAFD880>, _prev={Variable(data=0.07251381966836634, grad=0), _op=<ops.basic_ops.MulOperation object at 0x000002300AAFD790>, _prev={Variable(data=0.03625690983418317, grad=0), _op=None, _prev=set(), _name=weight_1_1, Variable(data=2, grad=0), _op=None, _prev=set(), _name=None}, _name=None, Variable(data=0.4621759311620455, grad=0), _op=<ops.basic_ops.AddOperation object at 0x000002300AAFD6A0>, _prev={Variable(data=0.4621759311620455, grad=0), _op=<ops.basic_ops.MulOperation object at 0x000002300AAFD5B0>, _prev={Variable(data=0.4621759311620455, grad=0), _op=None, _prev=set(), _name=weight_0_1, Variable(data=1, grad=0), _op=None, _prev=set(), _name=None}, _name=None, Variable(data=0, grad=0), _op=None, _prev=set(), _name=sum_value_0_1}, _name=None}, _name=None}, _name=None, Variable(data=0.5615846532032573, grad=0), _op=None, _prev=set(), _name=bias_1}, _name=None}, _name=None, Variable(data=0.027948227209217857, grad=0), _op=None, _prev=set(), _name=weight_1_0}, _name=None, Variable(data=2.8679639152441916, grad=0), _op=<ops.basic_ops.AddOperation object at 0x000002300AB11880>, _prev={Variable(data=2.8679639152441916, grad=0), _op=<ops.basic_ops.MulOperation object at 0x000002300AB11790>, _prev={Variable(data=0.9050208689709175, grad=0), _op=None, _prev=set(), _name=weight_0_0, Variable(data=3.168947826037758, grad=0), _op=<activation_functions.relu.ReLUActivation object at 0x000002300AA44FE0>, _prev={Variable(data=3.168947826037758, grad=0), _op=<ops.basic_ops.AddOperation object at 0x000002300AAFD4C0>, _prev={Variable(data=2.5369242376554526, grad=0), _op=<ops.basic_ops.AddOperation object at 0x000002300AAFD3D0>, _prev={Variable(data=0.8480918963149076, grad=0), _op=<ops.basic_ops.MulOperation object at 0x000002300AAFD2E0>, _prev={Variable(data=3, grad=0), _op=None, _prev=set(), _name=None, Variable(data=0.28269729877163585, grad=0), _op=None, _prev=set(), _name=weight_2_0}, _name=None, Variable(data=1.6888323413405448, grad=0), _op=<ops.basic_ops.AddOperation object at 0x000002300AAFD1F0>, _prev={Variable(data=1.628585492955246, grad=0), _op=<ops.basic_ops.MulOperation object at 0x000002300AAFD100>, _prev={Variable(data=2, grad=0), _op=None, _prev=set(), _name=None, Variable(data=0.814292746477623, grad=0), _op=None, _prev=set(), _name=weight_1_0}, _name=None, Variable(data=0.06024684838529881, grad=0), _op=<ops.basic_ops.AddOperation object at 0x000002300AAFD010>, _prev={Variable(data=0, grad=0), _op=None, _prev=set(), _name=sum_value_0_0, Variable(data=0.06024684838529881, grad=0), _op=<ops.basic_ops.MulOperation object at 0x000002300AAFCF50>, _prev={Variable(data=0.06024684838529881, grad=0), _op=None, _prev=set(), _name=weight_0_0, Variable(data=1, grad=0), _op=None, _prev=set(), _name=None}, _name=None}, _name=None}, _name=None}, _name=None, Variable(data=0.6320235883823054, grad=0), _op=None, _prev=set(), _name=bias_0}, _name=None}, _name=None}, _name=None, Variable(data=0, grad=0), _op=None, _prev=set(), _name=sum_value_0_0}, _name=None}, _name=None}, _name=None}, _name=None}, _name=None}, _name=None}, _name=None}, _name=None}, _name=None}, _name=None, Variable(data=0.3527202417106222, grad=0), _op=None, _prev=set(), _name=bias_0}, _name=None"
      ]
     },
     "execution_count": 6,
     "metadata": {},
     "output_type": "execute_result"
    }
   ],
   "source": [
    "output[0][0]"
   ]
  },
  {
   "cell_type": "code",
   "execution_count": 7,
   "metadata": {},
   "outputs": [],
   "source": [
    "from loss_functions.mse import MSELoss\n",
    "from variable.variable import Variable\n",
    "loss_fn = MSELoss()\n",
    "\n",
    "target = [[Variable(2)]]\n",
    "loss = loss_fn(output, target)\n"
   ]
  },
  {
   "cell_type": "code",
   "execution_count": 10,
   "metadata": {},
   "outputs": [
    {
     "ename": "AttributeError",
     "evalue": "'MSELoss' object has no attribute 'backwards'",
     "output_type": "error",
     "traceback": [
      "\u001b[1;31m---------------------------------------------------------------------------\u001b[0m",
      "\u001b[1;31mAttributeError\u001b[0m                            Traceback (most recent call last)",
      "Cell \u001b[1;32mIn[10], line 1\u001b[0m\n\u001b[1;32m----> 1\u001b[0m \u001b[43mloss_fn\u001b[49m\u001b[38;5;241;43m.\u001b[39;49m\u001b[43mbackwards\u001b[49m()\n",
      "\u001b[1;31mAttributeError\u001b[0m: 'MSELoss' object has no attribute 'backwards'"
     ]
    }
   ],
   "source": [
    "loss_fn.backward()"
   ]
  },
  {
   "cell_type": "code",
   "execution_count": 9,
   "metadata": {},
   "outputs": [
    {
     "data": {
      "text/plain": [
       "[[Variable(data=0.7062873974296746, grad=5.546320427261335), _op=None, _prev=set(), _name=weight_0_0,\n",
       "  Variable(data=0.20634341552299018, grad=11.09264085452267), _op=None, _prev=set(), _name=weight_1_0,\n",
       "  Variable(data=0.7281460899453482, grad=16.638961281784006), _op=None, _prev=set(), _name=weight_2_0],\n",
       " [Variable(data=0.43724008196859243, grad=1.5812971218813787), _op=None, _prev=set(), _name=weight_0_1,\n",
       "  Variable(data=0.7331721718684626, grad=3.1625942437627574), _op=None, _prev=set(), _name=weight_1_1,\n",
       "  Variable(data=0.10937273568924444, grad=4.743891365644136), _op=None, _prev=set(), _name=weight_2_1],\n",
       " [Variable(data=0.5802114515851918, grad=1.8596711430384438), _op=None, _prev=set(), _name=weight_0_2,\n",
       "  Variable(data=0.43314358626383864, grad=3.7193422860768877), _op=None, _prev=set(), _name=weight_1_2,\n",
       "  Variable(data=0.49592629761143137, grad=5.5790134291153315), _op=None, _prev=set(), _name=weight_2_2],\n",
       " [Variable(data=0.4097319345556446, grad=9.375586574251747), _op=None, _prev=set(), _name=weight_0_3,\n",
       "  Variable(data=0.8651874917028937, grad=18.751173148503494), _op=None, _prev=set(), _name=weight_1_3,\n",
       "  Variable(data=0.00847175766481556, grad=28.12675972275524), _op=None, _prev=set(), _name=weight_2_3]]"
      ]
     },
     "execution_count": 9,
     "metadata": {},
     "output_type": "execute_result"
    }
   ],
   "source": [
    "model.layer1.weight"
   ]
  },
  {
   "cell_type": "code",
   "execution_count": 10,
   "metadata": {},
   "outputs": [],
   "source": [
    "optimizer.step()"
   ]
  },
  {
   "cell_type": "code",
   "execution_count": 11,
   "metadata": {},
   "outputs": [
    {
     "data": {
      "text/plain": [
       "[[Variable(data=0.6508241931570613, grad=5.546320427261335), _op=None, _prev=set(), _name=weight_0_0,\n",
       "  Variable(data=0.09541700697776347, grad=11.09264085452267), _op=None, _prev=set(), _name=weight_1_0,\n",
       "  Variable(data=0.5617564771275082, grad=16.638961281784006), _op=None, _prev=set(), _name=weight_2_0],\n",
       " [Variable(data=0.4214271107497786, grad=1.5812971218813787), _op=None, _prev=set(), _name=weight_0_1,\n",
       "  Variable(data=0.701546229430835, grad=3.1625942437627574), _op=None, _prev=set(), _name=weight_1_1,\n",
       "  Variable(data=0.06193382203280308, grad=4.743891365644136), _op=None, _prev=set(), _name=weight_2_1],\n",
       " [Variable(data=0.5616147401548074, grad=1.8596711430384438), _op=None, _prev=set(), _name=weight_0_2,\n",
       "  Variable(data=0.39595016340306977, grad=3.7193422860768877), _op=None, _prev=set(), _name=weight_1_2,\n",
       "  Variable(data=0.44013616332027805, grad=5.5790134291153315), _op=None, _prev=set(), _name=weight_2_2],\n",
       " [Variable(data=0.3159760688131271, grad=9.375586574251747), _op=None, _prev=set(), _name=weight_0_3,\n",
       "  Variable(data=0.6776757602178587, grad=18.751173148503494), _op=None, _prev=set(), _name=weight_1_3,\n",
       "  Variable(data=-0.27279583956273684, grad=28.12675972275524), _op=None, _prev=set(), _name=weight_2_3]]"
      ]
     },
     "execution_count": 11,
     "metadata": {},
     "output_type": "execute_result"
    }
   ],
   "source": [
    "model.layer1.weight"
   ]
  },
  {
   "cell_type": "code",
   "execution_count": 16,
   "metadata": {},
   "outputs": [],
   "source": [
    "optimizer.zero_grad()"
   ]
  },
  {
   "cell_type": "code",
   "execution_count": 17,
   "metadata": {},
   "outputs": [
    {
     "data": {
      "text/plain": [
       "[[Variable(data=0.6508241931570613, grad=0), _op=None, _prev=set(), _name=weight_0_0,\n",
       "  Variable(data=0.09541700697776347, grad=0), _op=None, _prev=set(), _name=weight_1_0,\n",
       "  Variable(data=0.5617564771275082, grad=0), _op=None, _prev=set(), _name=weight_2_0],\n",
       " [Variable(data=0.4214271107497786, grad=0), _op=None, _prev=set(), _name=weight_0_1,\n",
       "  Variable(data=0.701546229430835, grad=0), _op=None, _prev=set(), _name=weight_1_1,\n",
       "  Variable(data=0.06193382203280308, grad=0), _op=None, _prev=set(), _name=weight_2_1],\n",
       " [Variable(data=0.5616147401548074, grad=0), _op=None, _prev=set(), _name=weight_0_2,\n",
       "  Variable(data=0.39595016340306977, grad=0), _op=None, _prev=set(), _name=weight_1_2,\n",
       "  Variable(data=0.44013616332027805, grad=0), _op=None, _prev=set(), _name=weight_2_2],\n",
       " [Variable(data=0.3159760688131271, grad=0), _op=None, _prev=set(), _name=weight_0_3,\n",
       "  Variable(data=0.6776757602178587, grad=0), _op=None, _prev=set(), _name=weight_1_3,\n",
       "  Variable(data=-0.27279583956273684, grad=0), _op=None, _prev=set(), _name=weight_2_3]]"
      ]
     },
     "execution_count": 17,
     "metadata": {},
     "output_type": "execute_result"
    }
   ],
   "source": [
    "model.layer1.weight"
   ]
  }
 ],
 "metadata": {
  "kernelspec": {
   "display_name": "Python 3",
   "language": "python",
   "name": "python3"
  },
  "language_info": {
   "codemirror_mode": {
    "name": "ipython",
    "version": 3
   },
   "file_extension": ".py",
   "mimetype": "text/x-python",
   "name": "python",
   "nbconvert_exporter": "python",
   "pygments_lexer": "ipython3",
   "version": "3.12.6"
  }
 },
 "nbformat": 4,
 "nbformat_minor": 2
}
