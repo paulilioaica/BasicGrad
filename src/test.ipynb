{
 "cells": [
  {
   "cell_type": "code",
   "execution_count": 1,
   "metadata": {},
   "outputs": [],
   "source": [
    "from variable.variable import Variable\n",
    "from activation_functions.relu import ReLUActivation\n",
    "relu_fn = ReLUActivation()"
   ]
  },
  {
   "cell_type": "code",
   "execution_count": 2,
   "metadata": {},
   "outputs": [],
   "source": [
    "x = Variable(3)\n",
    "y = Variable(4)"
   ]
  },
  {
   "cell_type": "code",
   "execution_count": 3,
   "metadata": {},
   "outputs": [],
   "source": [
    "z = x + y "
   ]
  },
  {
   "cell_type": "code",
   "execution_count": 4,
   "metadata": {},
   "outputs": [
    {
     "data": {
      "text/plain": [
       "Variable(data=7, grad=0), _op=<ops.basic_ops.AddOperation object at 0x0000019394B446E0>"
      ]
     },
     "execution_count": 4,
     "metadata": {},
     "output_type": "execute_result"
    }
   ],
   "source": [
    "z"
   ]
  },
  {
   "cell_type": "code",
   "execution_count": 5,
   "metadata": {},
   "outputs": [],
   "source": [
    "z_relu = relu_fn(z)"
   ]
  },
  {
   "cell_type": "code",
   "execution_count": 6,
   "metadata": {},
   "outputs": [],
   "source": [
    "z_relu.backward()"
   ]
  },
  {
   "cell_type": "code",
   "execution_count": 7,
   "metadata": {},
   "outputs": [
    {
     "data": {
      "text/plain": [
       "(Variable(data=3, grad=1), Variable(data=4, grad=1))"
      ]
     },
     "execution_count": 7,
     "metadata": {},
     "output_type": "execute_result"
    }
   ],
   "source": [
    "x, y"
   ]
  },
  {
   "cell_type": "code",
   "execution_count": 1,
   "metadata": {},
   "outputs": [],
   "source": [
    "from nn.linear_layer import LinearLayer\n",
    "from variable.variable import Variable\n",
    "\n",
    "x = LinearLayer(5, 10)"
   ]
  },
  {
   "cell_type": "code",
   "execution_count": 2,
   "metadata": {},
   "outputs": [],
   "source": [
    "# we do batch size of 3 and input size of 5\n",
    "\n",
    "input_data = [[Variable(i) for i in range(5)] for _ in range(3)]"
   ]
  },
  {
   "cell_type": "code",
   "execution_count": 3,
   "metadata": {},
   "outputs": [
    {
     "data": {
      "text/plain": [
       "Variable(data=2.409617244364817, grad=0), _op=<ops.basic_ops.AddOperation object at 0x0000024420CC3E90>, history={Variable(data=0.47074814348000604, grad=0), _op=None, history=set(), Variable(data=1.9388691008848113, grad=0), _op=<ops.basic_ops.AddOperation object at 0x0000024420CC3DA0>, history={Variable(data=0.23801442405694906, grad=0), _op=None, history=set(), Variable(data=1.7008546768278623, grad=0), _op=<ops.basic_ops.AddOperation object at 0x0000024420CC3CB0>, history={Variable(data=0.028448334035315992, grad=0), _op=None, history=set(), Variable(data=1.6724063427925464, grad=0), _op=<ops.basic_ops.AddOperation object at 0x0000024420CC3BC0>, history={Variable(data=0.9948622463707882, grad=0), _op=None, history=set(), Variable(data=0.6775440964217583, grad=0), _op=<ops.basic_ops.AddOperation object at 0x0000024420CC3B60>, history={Variable(data=0, grad=0), _op=None, history=set(), Variable(data=0.6775440964217583, grad=0), _op=None, history=set()}}}}}"
      ]
     },
     "execution_count": 3,
     "metadata": {},
     "output_type": "execute_result"
    }
   ],
   "source": [
    "x(input_data)[0][0]"
   ]
  }
 ],
 "metadata": {
  "kernelspec": {
   "display_name": "Python 3",
   "language": "python",
   "name": "python3"
  },
  "language_info": {
   "codemirror_mode": {
    "name": "ipython",
    "version": 3
   },
   "file_extension": ".py",
   "mimetype": "text/x-python",
   "name": "python",
   "nbconvert_exporter": "python",
   "pygments_lexer": "ipython3",
   "version": "3.12.5"
  }
 },
 "nbformat": 4,
 "nbformat_minor": 2
}
